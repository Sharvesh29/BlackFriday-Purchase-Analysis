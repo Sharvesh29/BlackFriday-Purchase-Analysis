{
 "cells": [
  {
   "cell_type": "code",
   "execution_count": 1,
   "metadata": {},
   "outputs": [],
   "source": [
    "import numpy as np\n",
    "import pandas as pd\n",
    "\n",
    "\n",
    "import statsmodels.api  as  sm\n",
    "import scipy.stats as stats\n",
    "\n",
    "import warnings\n",
    "warnings.filterwarnings('ignore')"
   ]
  },
  {
   "cell_type": "code",
   "execution_count": 102,
   "metadata": {},
   "outputs": [],
   "source": [
    "train = pd.read_csv('train.csv')\n",
    "test = pd.read_csv('test.csv')"
   ]
  },
  {
   "cell_type": "code",
   "execution_count": 3,
   "metadata": {},
   "outputs": [
    {
     "name": "stdout",
     "output_type": "stream",
     "text": [
      "(550068, 12) (233599, 11) (783667, 12)\n"
     ]
    }
   ],
   "source": [
    "data =  pd.concat([train,test])\n",
    "print(train.shape,test.shape,data.shape)"
   ]
  },
  {
   "cell_type": "code",
   "execution_count": 4,
   "metadata": {},
   "outputs": [
    {
     "name": "stdout",
     "output_type": "stream",
     "text": [
      "<class 'pandas.core.frame.DataFrame'>\n",
      "RangeIndex: 550068 entries, 0 to 550067\n",
      "Data columns (total 12 columns):\n",
      "User_ID                       550068 non-null int64\n",
      "Product_ID                    550068 non-null object\n",
      "Gender                        550068 non-null object\n",
      "Age                           550068 non-null object\n",
      "Occupation                    550068 non-null int64\n",
      "City_Category                 550068 non-null object\n",
      "Stay_In_Current_City_Years    550068 non-null object\n",
      "Marital_Status                550068 non-null int64\n",
      "Product_Category_1            550068 non-null int64\n",
      "Product_Category_2            376430 non-null float64\n",
      "Product_Category_3            166821 non-null float64\n",
      "Purchase                      550068 non-null int64\n",
      "dtypes: float64(2), int64(5), object(5)\n",
      "memory usage: 50.4+ MB\n"
     ]
    }
   ],
   "source": [
    "train.info()"
   ]
  },
  {
   "cell_type": "code",
   "execution_count": 5,
   "metadata": {},
   "outputs": [],
   "source": [
    "train['Gender'] = train['Gender'].astype(\"object\")\n",
    "train['Age'] = (train['Age']).astype(\"object\")\n",
    "train['Occupation'] = (train['Occupation']).astype(\"object\")\n",
    "train['City_Category'] = (train['City_Category']).astype(\"object\")\n",
    "train['Stay_In_Current_City_Years'] = (train['Stay_In_Current_City_Years']).astype(\"object\")\n",
    "train['Marital_Status'] = (train['Marital_Status']).astype(\"object\")\n",
    "train['Product_Category_1'] = (train['Product_Category_1']).astype(\"object\")"
   ]
  },
  {
   "cell_type": "code",
   "execution_count": 6,
   "metadata": {},
   "outputs": [
    {
     "name": "stdout",
     "output_type": "stream",
     "text": [
      "<class 'pandas.core.frame.DataFrame'>\n",
      "RangeIndex: 550068 entries, 0 to 550067\n",
      "Data columns (total 12 columns):\n",
      "User_ID                       550068 non-null int64\n",
      "Product_ID                    550068 non-null object\n",
      "Gender                        550068 non-null object\n",
      "Age                           550068 non-null object\n",
      "Occupation                    550068 non-null object\n",
      "City_Category                 550068 non-null object\n",
      "Stay_In_Current_City_Years    550068 non-null object\n",
      "Marital_Status                550068 non-null object\n",
      "Product_Category_1            550068 non-null object\n",
      "Product_Category_2            376430 non-null float64\n",
      "Product_Category_3            166821 non-null float64\n",
      "Purchase                      550068 non-null int64\n",
      "dtypes: float64(2), int64(2), object(8)\n",
      "memory usage: 50.4+ MB\n"
     ]
    }
   ],
   "source": [
    "train.info()"
   ]
  },
  {
   "cell_type": "markdown",
   "metadata": {},
   "source": [
    "## Droping the columns that are not useful for statistical analysis\n"
   ]
  },
  {
   "cell_type": "markdown",
   "metadata": {},
   "source": [
    "* User_ID ,Product_ID are not useful\n",
    "* Product_Category_2 & Product_Category_3 contains null values hence lets ignore that "
   ]
  },
  {
   "cell_type": "markdown",
   "metadata": {},
   "source": [
    "# 1: Checking Dependents of Gender and Product_Category_1\n",
    "\n",
    "* Step 1: State the null and alternative hypothesis:\n",
    "\n",
    "**Null hypothesis: $H_0$: Gender and Product_Category_1 are Independent.**\n",
    "\n",
    "**Alternative hypothesis: $H_A$: Gender and Product_Category_1 are Not Independent.**\n",
    "\n",
    "* Step 2: Decide the significance level\n",
    "\n",
    "**Here we select α = 0.05**\n",
    "\n",
    "* Step 3: Identify the test statistic\n",
    "\n",
    "**We use the chi-square test of independence to find out the difference of categorical variables*\n",
    "\n",
    "* Step 4: Calculate p value or chi-square statistic value"
   ]
  },
  {
   "cell_type": "code",
   "execution_count": 7,
   "metadata": {},
   "outputs": [
    {
     "data": {
      "text/html": [
       "<div>\n",
       "<style scoped>\n",
       "    .dataframe tbody tr th:only-of-type {\n",
       "        vertical-align: middle;\n",
       "    }\n",
       "\n",
       "    .dataframe tbody tr th {\n",
       "        vertical-align: top;\n",
       "    }\n",
       "\n",
       "    .dataframe thead th {\n",
       "        text-align: right;\n",
       "    }\n",
       "</style>\n",
       "<table border=\"1\" class=\"dataframe\">\n",
       "  <thead>\n",
       "    <tr style=\"text-align: right;\">\n",
       "      <th>Product_Category_1</th>\n",
       "      <th>1</th>\n",
       "      <th>2</th>\n",
       "      <th>3</th>\n",
       "      <th>4</th>\n",
       "      <th>5</th>\n",
       "      <th>6</th>\n",
       "      <th>7</th>\n",
       "      <th>8</th>\n",
       "      <th>9</th>\n",
       "      <th>10</th>\n",
       "      <th>11</th>\n",
       "      <th>12</th>\n",
       "      <th>13</th>\n",
       "      <th>14</th>\n",
       "      <th>15</th>\n",
       "      <th>16</th>\n",
       "      <th>17</th>\n",
       "      <th>18</th>\n",
       "      <th>19</th>\n",
       "      <th>20</th>\n",
       "    </tr>\n",
       "    <tr>\n",
       "      <th>Gender</th>\n",
       "      <th></th>\n",
       "      <th></th>\n",
       "      <th></th>\n",
       "      <th></th>\n",
       "      <th></th>\n",
       "      <th></th>\n",
       "      <th></th>\n",
       "      <th></th>\n",
       "      <th></th>\n",
       "      <th></th>\n",
       "      <th></th>\n",
       "      <th></th>\n",
       "      <th></th>\n",
       "      <th></th>\n",
       "      <th></th>\n",
       "      <th></th>\n",
       "      <th></th>\n",
       "      <th></th>\n",
       "      <th></th>\n",
       "      <th></th>\n",
       "    </tr>\n",
       "  </thead>\n",
       "  <tbody>\n",
       "    <tr>\n",
       "      <td>F</td>\n",
       "      <td>24831</td>\n",
       "      <td>5658</td>\n",
       "      <td>6006</td>\n",
       "      <td>3639</td>\n",
       "      <td>41961</td>\n",
       "      <td>4559</td>\n",
       "      <td>943</td>\n",
       "      <td>33558</td>\n",
       "      <td>70</td>\n",
       "      <td>1162</td>\n",
       "      <td>4739</td>\n",
       "      <td>1532</td>\n",
       "      <td>1462</td>\n",
       "      <td>623</td>\n",
       "      <td>1046</td>\n",
       "      <td>2402</td>\n",
       "      <td>62</td>\n",
       "      <td>382</td>\n",
       "      <td>451</td>\n",
       "      <td>723</td>\n",
       "    </tr>\n",
       "    <tr>\n",
       "      <td>M</td>\n",
       "      <td>115547</td>\n",
       "      <td>18206</td>\n",
       "      <td>14207</td>\n",
       "      <td>8114</td>\n",
       "      <td>108972</td>\n",
       "      <td>15907</td>\n",
       "      <td>2778</td>\n",
       "      <td>80367</td>\n",
       "      <td>340</td>\n",
       "      <td>3963</td>\n",
       "      <td>19548</td>\n",
       "      <td>2415</td>\n",
       "      <td>4087</td>\n",
       "      <td>900</td>\n",
       "      <td>5244</td>\n",
       "      <td>7426</td>\n",
       "      <td>516</td>\n",
       "      <td>2743</td>\n",
       "      <td>1152</td>\n",
       "      <td>1827</td>\n",
       "    </tr>\n",
       "  </tbody>\n",
       "</table>\n",
       "</div>"
      ],
      "text/plain": [
       "Product_Category_1      1      2      3     4       5      6     7      8   \\\n",
       "Gender                                                                       \n",
       "F                    24831   5658   6006  3639   41961   4559   943  33558   \n",
       "M                   115547  18206  14207  8114  108972  15907  2778  80367   \n",
       "\n",
       "Product_Category_1   9     10     11    12    13   14    15    16   17    18  \\\n",
       "Gender                                                                         \n",
       "F                    70  1162   4739  1532  1462  623  1046  2402   62   382   \n",
       "M                   340  3963  19548  2415  4087  900  5244  7426  516  2743   \n",
       "\n",
       "Product_Category_1    19    20  \n",
       "Gender                          \n",
       "F                    451   723  \n",
       "M                   1152  1827  "
      ]
     },
     "execution_count": 7,
     "metadata": {},
     "output_type": "execute_result"
    }
   ],
   "source": [
    "Gen_tab = pd.crosstab(index=train[\"Gender\"], columns=train[\"Product_Category_1\"])\n",
    "Gen_array = np.array(Gen_tab)\n",
    "Gen_tab"
   ]
  },
  {
   "cell_type": "code",
   "execution_count": 8,
   "metadata": {},
   "outputs": [
    {
     "name": "stdout",
     "output_type": "stream",
     "text": [
      "Chi-square statistic 8070.41102 P value 0.000000 Degrees of freedom 19\n"
     ]
    }
   ],
   "source": [
    "chi_sq_Stat, p_value, deg_freedom, exp_freq = stats.chi2_contingency(Gen_array)\n",
    "\n",
    "print('Chi-square statistic %3.5f P value %1.6f Degrees of freedom %d' %(chi_sq_Stat, p_value,deg_freedom))"
   ]
  },
  {
   "cell_type": "markdown",
   "metadata": {},
   "source": [
    "**Step 5: Decide to reject or accept null hypothesis¶**\n",
    "* Here, p value is 0 and < 0.05 so we reject the null hypothesis.\n",
    "* Going with the Alternative hypothesis: $H_A$: Gender and Product_Category_1 are Not Independent. This means they are dependent."
   ]
  },
  {
   "cell_type": "raw",
   "metadata": {},
   "source": []
  },
  {
   "cell_type": "markdown",
   "metadata": {},
   "source": [
    "# 2: Checking Dependents of Age and Product_Category_1\n",
    "\n",
    "* Step 1: State the null and alternative hypothesis:\n",
    "\n",
    "**Null hypothesis: $H_0$: Age and Product_Category_1 are Independent.**\n",
    "\n",
    "**Alternative hypothesis: $H_A$: Age and Product_Category_1 are Not Independent.**\n",
    "\n",
    "* Step 2: Decide the significance level\n",
    "\n",
    "**Here we select α = 0.05**\n",
    "\n",
    "* Step 3: Identify the test statistic\n",
    "\n",
    "**We use the chi-square test of independence to find out the difference of categorical variables**\n",
    "\n",
    "* Step 4: Calculate p value or chi-square statistic value"
   ]
  },
  {
   "cell_type": "code",
   "execution_count": 9,
   "metadata": {},
   "outputs": [
    {
     "data": {
      "text/html": [
       "<div>\n",
       "<style scoped>\n",
       "    .dataframe tbody tr th:only-of-type {\n",
       "        vertical-align: middle;\n",
       "    }\n",
       "\n",
       "    .dataframe tbody tr th {\n",
       "        vertical-align: top;\n",
       "    }\n",
       "\n",
       "    .dataframe thead th {\n",
       "        text-align: right;\n",
       "    }\n",
       "</style>\n",
       "<table border=\"1\" class=\"dataframe\">\n",
       "  <thead>\n",
       "    <tr style=\"text-align: right;\">\n",
       "      <th>Product_Category_1</th>\n",
       "      <th>1</th>\n",
       "      <th>2</th>\n",
       "      <th>3</th>\n",
       "      <th>4</th>\n",
       "      <th>5</th>\n",
       "      <th>6</th>\n",
       "      <th>7</th>\n",
       "      <th>8</th>\n",
       "      <th>9</th>\n",
       "      <th>10</th>\n",
       "      <th>11</th>\n",
       "      <th>12</th>\n",
       "      <th>13</th>\n",
       "      <th>14</th>\n",
       "      <th>15</th>\n",
       "      <th>16</th>\n",
       "      <th>17</th>\n",
       "      <th>18</th>\n",
       "      <th>19</th>\n",
       "      <th>20</th>\n",
       "    </tr>\n",
       "    <tr>\n",
       "      <th>Age</th>\n",
       "      <th></th>\n",
       "      <th></th>\n",
       "      <th></th>\n",
       "      <th></th>\n",
       "      <th></th>\n",
       "      <th></th>\n",
       "      <th></th>\n",
       "      <th></th>\n",
       "      <th></th>\n",
       "      <th></th>\n",
       "      <th></th>\n",
       "      <th></th>\n",
       "      <th></th>\n",
       "      <th></th>\n",
       "      <th></th>\n",
       "      <th></th>\n",
       "      <th></th>\n",
       "      <th></th>\n",
       "      <th></th>\n",
       "      <th></th>\n",
       "    </tr>\n",
       "  </thead>\n",
       "  <tbody>\n",
       "    <tr>\n",
       "      <td>0-17</td>\n",
       "      <td>3585</td>\n",
       "      <td>805</td>\n",
       "      <td>1200</td>\n",
       "      <td>758</td>\n",
       "      <td>4330</td>\n",
       "      <td>399</td>\n",
       "      <td>53</td>\n",
       "      <td>2258</td>\n",
       "      <td>16</td>\n",
       "      <td>111</td>\n",
       "      <td>740</td>\n",
       "      <td>125</td>\n",
       "      <td>112</td>\n",
       "      <td>39</td>\n",
       "      <td>160</td>\n",
       "      <td>229</td>\n",
       "      <td>6</td>\n",
       "      <td>27</td>\n",
       "      <td>59</td>\n",
       "      <td>90</td>\n",
       "    </tr>\n",
       "    <tr>\n",
       "      <td>18-25</td>\n",
       "      <td>26962</td>\n",
       "      <td>4428</td>\n",
       "      <td>4710</td>\n",
       "      <td>2463</td>\n",
       "      <td>28522</td>\n",
       "      <td>3749</td>\n",
       "      <td>481</td>\n",
       "      <td>17911</td>\n",
       "      <td>63</td>\n",
       "      <td>603</td>\n",
       "      <td>4597</td>\n",
       "      <td>439</td>\n",
       "      <td>756</td>\n",
       "      <td>230</td>\n",
       "      <td>1024</td>\n",
       "      <td>1598</td>\n",
       "      <td>41</td>\n",
       "      <td>339</td>\n",
       "      <td>275</td>\n",
       "      <td>469</td>\n",
       "    </tr>\n",
       "    <tr>\n",
       "      <td>26-35</td>\n",
       "      <td>58249</td>\n",
       "      <td>8928</td>\n",
       "      <td>7662</td>\n",
       "      <td>4192</td>\n",
       "      <td>61473</td>\n",
       "      <td>8485</td>\n",
       "      <td>1651</td>\n",
       "      <td>44256</td>\n",
       "      <td>154</td>\n",
       "      <td>1787</td>\n",
       "      <td>9874</td>\n",
       "      <td>1096</td>\n",
       "      <td>2096</td>\n",
       "      <td>564</td>\n",
       "      <td>2372</td>\n",
       "      <td>4118</td>\n",
       "      <td>127</td>\n",
       "      <td>1042</td>\n",
       "      <td>563</td>\n",
       "      <td>898</td>\n",
       "    </tr>\n",
       "    <tr>\n",
       "      <td>36-45</td>\n",
       "      <td>27648</td>\n",
       "      <td>4912</td>\n",
       "      <td>3854</td>\n",
       "      <td>2354</td>\n",
       "      <td>29377</td>\n",
       "      <td>3899</td>\n",
       "      <td>809</td>\n",
       "      <td>23296</td>\n",
       "      <td>107</td>\n",
       "      <td>1235</td>\n",
       "      <td>4953</td>\n",
       "      <td>994</td>\n",
       "      <td>1250</td>\n",
       "      <td>312</td>\n",
       "      <td>1395</td>\n",
       "      <td>1955</td>\n",
       "      <td>135</td>\n",
       "      <td>702</td>\n",
       "      <td>320</td>\n",
       "      <td>506</td>\n",
       "    </tr>\n",
       "    <tr>\n",
       "      <td>46-50</td>\n",
       "      <td>10474</td>\n",
       "      <td>2105</td>\n",
       "      <td>1376</td>\n",
       "      <td>990</td>\n",
       "      <td>11971</td>\n",
       "      <td>1622</td>\n",
       "      <td>327</td>\n",
       "      <td>10656</td>\n",
       "      <td>33</td>\n",
       "      <td>520</td>\n",
       "      <td>2104</td>\n",
       "      <td>520</td>\n",
       "      <td>551</td>\n",
       "      <td>149</td>\n",
       "      <td>602</td>\n",
       "      <td>879</td>\n",
       "      <td>95</td>\n",
       "      <td>351</td>\n",
       "      <td>149</td>\n",
       "      <td>227</td>\n",
       "    </tr>\n",
       "    <tr>\n",
       "      <td>51-55</td>\n",
       "      <td>9049</td>\n",
       "      <td>1781</td>\n",
       "      <td>924</td>\n",
       "      <td>678</td>\n",
       "      <td>9893</td>\n",
       "      <td>1450</td>\n",
       "      <td>266</td>\n",
       "      <td>9340</td>\n",
       "      <td>29</td>\n",
       "      <td>519</td>\n",
       "      <td>1458</td>\n",
       "      <td>433</td>\n",
       "      <td>483</td>\n",
       "      <td>154</td>\n",
       "      <td>508</td>\n",
       "      <td>672</td>\n",
       "      <td>107</td>\n",
       "      <td>423</td>\n",
       "      <td>134</td>\n",
       "      <td>200</td>\n",
       "    </tr>\n",
       "    <tr>\n",
       "      <td>55+</td>\n",
       "      <td>4411</td>\n",
       "      <td>905</td>\n",
       "      <td>487</td>\n",
       "      <td>318</td>\n",
       "      <td>5367</td>\n",
       "      <td>862</td>\n",
       "      <td>134</td>\n",
       "      <td>6208</td>\n",
       "      <td>8</td>\n",
       "      <td>350</td>\n",
       "      <td>561</td>\n",
       "      <td>340</td>\n",
       "      <td>301</td>\n",
       "      <td>75</td>\n",
       "      <td>229</td>\n",
       "      <td>377</td>\n",
       "      <td>67</td>\n",
       "      <td>241</td>\n",
       "      <td>103</td>\n",
       "      <td>160</td>\n",
       "    </tr>\n",
       "  </tbody>\n",
       "</table>\n",
       "</div>"
      ],
      "text/plain": [
       "Product_Category_1     1     2     3     4      5     6     7      8    9   \\\n",
       "Age                                                                          \n",
       "0-17                 3585   805  1200   758   4330   399    53   2258   16   \n",
       "18-25               26962  4428  4710  2463  28522  3749   481  17911   63   \n",
       "26-35               58249  8928  7662  4192  61473  8485  1651  44256  154   \n",
       "36-45               27648  4912  3854  2354  29377  3899   809  23296  107   \n",
       "46-50               10474  2105  1376   990  11971  1622   327  10656   33   \n",
       "51-55                9049  1781   924   678   9893  1450   266   9340   29   \n",
       "55+                  4411   905   487   318   5367   862   134   6208    8   \n",
       "\n",
       "Product_Category_1    10    11    12    13   14    15    16   17    18   19  \\\n",
       "Age                                                                           \n",
       "0-17                 111   740   125   112   39   160   229    6    27   59   \n",
       "18-25                603  4597   439   756  230  1024  1598   41   339  275   \n",
       "26-35               1787  9874  1096  2096  564  2372  4118  127  1042  563   \n",
       "36-45               1235  4953   994  1250  312  1395  1955  135   702  320   \n",
       "46-50                520  2104   520   551  149   602   879   95   351  149   \n",
       "51-55                519  1458   433   483  154   508   672  107   423  134   \n",
       "55+                  350   561   340   301   75   229   377   67   241  103   \n",
       "\n",
       "Product_Category_1   20  \n",
       "Age                      \n",
       "0-17                 90  \n",
       "18-25               469  \n",
       "26-35               898  \n",
       "36-45               506  \n",
       "46-50               227  \n",
       "51-55               200  \n",
       "55+                 160  "
      ]
     },
     "execution_count": 9,
     "metadata": {},
     "output_type": "execute_result"
    }
   ],
   "source": [
    "Age_tab = pd.crosstab(index=train[\"Age\"], columns=train[\"Product_Category_1\"])\n",
    "Age_arr = np.array(Age_tab)\n",
    "Age_tab"
   ]
  },
  {
   "cell_type": "code",
   "execution_count": 10,
   "metadata": {},
   "outputs": [
    {
     "name": "stdout",
     "output_type": "stream",
     "text": [
      "Chi-square statistic 7637.28655 P value 0.000000 Degrees of freedom 114\n"
     ]
    }
   ],
   "source": [
    "chi_sq_Stat, p_value, deg_freedom, exp_freq = stats.chi2_contingency(Age_arr)\n",
    "\n",
    "print('Chi-square statistic %3.5f P value %1.6f Degrees of freedom %d' %(chi_sq_Stat, p_value,deg_freedom))"
   ]
  },
  {
   "cell_type": "markdown",
   "metadata": {},
   "source": [
    "**Step 5: Decide to reject or accept null hypothesis¶**\n",
    "\n",
    "* Here, p value is 0 and < 0.05 so we reject the null hypothesis.\n",
    "\n",
    "* Going with the Alternative hypothesis:  𝐻𝐴 : age and Product_Category_1 are Not Independent. This means they are dependent."
   ]
  },
  {
   "cell_type": "markdown",
   "metadata": {},
   "source": [
    "# 3: Checking Dependents of Occupation and Product_Category_1\n",
    "\n",
    "* Step 1: State the null and alternative hypothesis:\n",
    "\n",
    "**Null hypothesis: $H_0$: Occupation and Product_Category_1 are Independent.**\n",
    "\n",
    "**Alternative hypothesis: $H_A$: Occupation and Product_Category_1 are Not Independent.**\n",
    "\n",
    "* Step 2: Decide the significance level\n",
    "\n",
    "**Here we select α = 0.05**\n",
    "\n",
    "* Step 3: Identify the test statistic\n",
    "\n",
    "**We use the chi-square test of independence to find out the difference of categorical variables**\n",
    "\n",
    "* Step 4: Calculate p value or chi-square statistic value"
   ]
  },
  {
   "cell_type": "code",
   "execution_count": 11,
   "metadata": {},
   "outputs": [
    {
     "data": {
      "text/html": [
       "<div>\n",
       "<style scoped>\n",
       "    .dataframe tbody tr th:only-of-type {\n",
       "        vertical-align: middle;\n",
       "    }\n",
       "\n",
       "    .dataframe tbody tr th {\n",
       "        vertical-align: top;\n",
       "    }\n",
       "\n",
       "    .dataframe thead th {\n",
       "        text-align: right;\n",
       "    }\n",
       "</style>\n",
       "<table border=\"1\" class=\"dataframe\">\n",
       "  <thead>\n",
       "    <tr style=\"text-align: right;\">\n",
       "      <th>Product_Category_1</th>\n",
       "      <th>1</th>\n",
       "      <th>2</th>\n",
       "      <th>3</th>\n",
       "      <th>4</th>\n",
       "      <th>5</th>\n",
       "      <th>6</th>\n",
       "      <th>7</th>\n",
       "      <th>8</th>\n",
       "      <th>9</th>\n",
       "      <th>10</th>\n",
       "      <th>11</th>\n",
       "      <th>12</th>\n",
       "      <th>13</th>\n",
       "      <th>14</th>\n",
       "      <th>15</th>\n",
       "      <th>16</th>\n",
       "      <th>17</th>\n",
       "      <th>18</th>\n",
       "      <th>19</th>\n",
       "      <th>20</th>\n",
       "    </tr>\n",
       "    <tr>\n",
       "      <th>Occupation</th>\n",
       "      <th></th>\n",
       "      <th></th>\n",
       "      <th></th>\n",
       "      <th></th>\n",
       "      <th></th>\n",
       "      <th></th>\n",
       "      <th></th>\n",
       "      <th></th>\n",
       "      <th></th>\n",
       "      <th></th>\n",
       "      <th></th>\n",
       "      <th></th>\n",
       "      <th></th>\n",
       "      <th></th>\n",
       "      <th></th>\n",
       "      <th></th>\n",
       "      <th></th>\n",
       "      <th></th>\n",
       "      <th></th>\n",
       "      <th></th>\n",
       "    </tr>\n",
       "  </thead>\n",
       "  <tbody>\n",
       "    <tr>\n",
       "      <td>0</td>\n",
       "      <td>25066</td>\n",
       "      <td>4251</td>\n",
       "      <td>3707</td>\n",
       "      <td>2123</td>\n",
       "      <td>27141</td>\n",
       "      <td>3694</td>\n",
       "      <td>792</td>\n",
       "      <td>19874</td>\n",
       "      <td>72</td>\n",
       "      <td>897</td>\n",
       "      <td>5336</td>\n",
       "      <td>633</td>\n",
       "      <td>1025</td>\n",
       "      <td>285</td>\n",
       "      <td>1019</td>\n",
       "      <td>1794</td>\n",
       "      <td>82</td>\n",
       "      <td>580</td>\n",
       "      <td>188</td>\n",
       "      <td>291</td>\n",
       "    </tr>\n",
       "    <tr>\n",
       "      <td>1</td>\n",
       "      <td>14733</td>\n",
       "      <td>2755</td>\n",
       "      <td>2195</td>\n",
       "      <td>1369</td>\n",
       "      <td>18887</td>\n",
       "      <td>2561</td>\n",
       "      <td>537</td>\n",
       "      <td>17186</td>\n",
       "      <td>44</td>\n",
       "      <td>761</td>\n",
       "      <td>2353</td>\n",
       "      <td>639</td>\n",
       "      <td>787</td>\n",
       "      <td>238</td>\n",
       "      <td>731</td>\n",
       "      <td>1121</td>\n",
       "      <td>88</td>\n",
       "      <td>344</td>\n",
       "      <td>139</td>\n",
       "      <td>219</td>\n",
       "    </tr>\n",
       "    <tr>\n",
       "      <td>2</td>\n",
       "      <td>8300</td>\n",
       "      <td>1550</td>\n",
       "      <td>1390</td>\n",
       "      <td>744</td>\n",
       "      <td>10904</td>\n",
       "      <td>1473</td>\n",
       "      <td>342</td>\n",
       "      <td>8943</td>\n",
       "      <td>22</td>\n",
       "      <td>409</td>\n",
       "      <td>1634</td>\n",
       "      <td>340</td>\n",
       "      <td>374</td>\n",
       "      <td>110</td>\n",
       "      <td>428</td>\n",
       "      <td>621</td>\n",
       "      <td>22</td>\n",
       "      <td>205</td>\n",
       "      <td>62</td>\n",
       "      <td>123</td>\n",
       "    </tr>\n",
       "    <tr>\n",
       "      <td>3</td>\n",
       "      <td>5577</td>\n",
       "      <td>982</td>\n",
       "      <td>883</td>\n",
       "      <td>557</td>\n",
       "      <td>7508</td>\n",
       "      <td>982</td>\n",
       "      <td>194</td>\n",
       "      <td>5465</td>\n",
       "      <td>20</td>\n",
       "      <td>284</td>\n",
       "      <td>1014</td>\n",
       "      <td>237</td>\n",
       "      <td>300</td>\n",
       "      <td>97</td>\n",
       "      <td>244</td>\n",
       "      <td>506</td>\n",
       "      <td>19</td>\n",
       "      <td>143</td>\n",
       "      <td>49</td>\n",
       "      <td>65</td>\n",
       "    </tr>\n",
       "    <tr>\n",
       "      <td>4</td>\n",
       "      <td>27458</td>\n",
       "      <td>4379</td>\n",
       "      <td>4692</td>\n",
       "      <td>2425</td>\n",
       "      <td>29259</td>\n",
       "      <td>3842</td>\n",
       "      <td>640</td>\n",
       "      <td>19724</td>\n",
       "      <td>65</td>\n",
       "      <td>679</td>\n",
       "      <td>4538</td>\n",
       "      <td>541</td>\n",
       "      <td>845</td>\n",
       "      <td>263</td>\n",
       "      <td>1085</td>\n",
       "      <td>1687</td>\n",
       "      <td>67</td>\n",
       "      <td>380</td>\n",
       "      <td>178</td>\n",
       "      <td>339</td>\n",
       "    </tr>\n",
       "    <tr>\n",
       "      <td>5</td>\n",
       "      <td>5183</td>\n",
       "      <td>827</td>\n",
       "      <td>632</td>\n",
       "      <td>344</td>\n",
       "      <td>4756</td>\n",
       "      <td>549</td>\n",
       "      <td>55</td>\n",
       "      <td>2730</td>\n",
       "      <td>17</td>\n",
       "      <td>138</td>\n",
       "      <td>1134</td>\n",
       "      <td>104</td>\n",
       "      <td>133</td>\n",
       "      <td>30</td>\n",
       "      <td>199</td>\n",
       "      <td>317</td>\n",
       "      <td>11</td>\n",
       "      <td>135</td>\n",
       "      <td>24</td>\n",
       "      <td>55</td>\n",
       "    </tr>\n",
       "    <tr>\n",
       "      <td>6</td>\n",
       "      <td>6673</td>\n",
       "      <td>1189</td>\n",
       "      <td>1060</td>\n",
       "      <td>639</td>\n",
       "      <td>8094</td>\n",
       "      <td>1037</td>\n",
       "      <td>214</td>\n",
       "      <td>6877</td>\n",
       "      <td>20</td>\n",
       "      <td>265</td>\n",
       "      <td>1206</td>\n",
       "      <td>241</td>\n",
       "      <td>290</td>\n",
       "      <td>104</td>\n",
       "      <td>291</td>\n",
       "      <td>569</td>\n",
       "      <td>30</td>\n",
       "      <td>141</td>\n",
       "      <td>63</td>\n",
       "      <td>99</td>\n",
       "    </tr>\n",
       "    <tr>\n",
       "      <td>7</td>\n",
       "      <td>22998</td>\n",
       "      <td>3502</td>\n",
       "      <td>2329</td>\n",
       "      <td>1596</td>\n",
       "      <td>22221</td>\n",
       "      <td>3262</td>\n",
       "      <td>484</td>\n",
       "      <td>17981</td>\n",
       "      <td>59</td>\n",
       "      <td>779</td>\n",
       "      <td>3399</td>\n",
       "      <td>634</td>\n",
       "      <td>860</td>\n",
       "      <td>228</td>\n",
       "      <td>909</td>\n",
       "      <td>1653</td>\n",
       "      <td>114</td>\n",
       "      <td>659</td>\n",
       "      <td>192</td>\n",
       "      <td>268</td>\n",
       "    </tr>\n",
       "    <tr>\n",
       "      <td>8</td>\n",
       "      <td>719</td>\n",
       "      <td>144</td>\n",
       "      <td>99</td>\n",
       "      <td>61</td>\n",
       "      <td>538</td>\n",
       "      <td>59</td>\n",
       "      <td>7</td>\n",
       "      <td>357</td>\n",
       "      <td>4</td>\n",
       "      <td>18</td>\n",
       "      <td>89</td>\n",
       "      <td>4</td>\n",
       "      <td>13</td>\n",
       "      <td>2</td>\n",
       "      <td>37</td>\n",
       "      <td>20</td>\n",
       "      <td>2</td>\n",
       "      <td>7</td>\n",
       "      <td>5</td>\n",
       "      <td>4</td>\n",
       "    </tr>\n",
       "    <tr>\n",
       "      <td>9</td>\n",
       "      <td>1642</td>\n",
       "      <td>404</td>\n",
       "      <td>494</td>\n",
       "      <td>334</td>\n",
       "      <td>3048</td>\n",
       "      <td>263</td>\n",
       "      <td>23</td>\n",
       "      <td>1877</td>\n",
       "      <td>4</td>\n",
       "      <td>48</td>\n",
       "      <td>244</td>\n",
       "      <td>119</td>\n",
       "      <td>88</td>\n",
       "      <td>39</td>\n",
       "      <td>51</td>\n",
       "      <td>154</td>\n",
       "      <td>4</td>\n",
       "      <td>31</td>\n",
       "      <td>22</td>\n",
       "      <td>40</td>\n",
       "    </tr>\n",
       "    <tr>\n",
       "      <td>10</td>\n",
       "      <td>4616</td>\n",
       "      <td>1033</td>\n",
       "      <td>1519</td>\n",
       "      <td>950</td>\n",
       "      <td>5176</td>\n",
       "      <td>418</td>\n",
       "      <td>60</td>\n",
       "      <td>2586</td>\n",
       "      <td>11</td>\n",
       "      <td>101</td>\n",
       "      <td>875</td>\n",
       "      <td>139</td>\n",
       "      <td>121</td>\n",
       "      <td>39</td>\n",
       "      <td>198</td>\n",
       "      <td>271</td>\n",
       "      <td>11</td>\n",
       "      <td>47</td>\n",
       "      <td>55</td>\n",
       "      <td>78</td>\n",
       "    </tr>\n",
       "    <tr>\n",
       "      <td>11</td>\n",
       "      <td>3869</td>\n",
       "      <td>715</td>\n",
       "      <td>502</td>\n",
       "      <td>283</td>\n",
       "      <td>4855</td>\n",
       "      <td>730</td>\n",
       "      <td>120</td>\n",
       "      <td>3641</td>\n",
       "      <td>10</td>\n",
       "      <td>236</td>\n",
       "      <td>561</td>\n",
       "      <td>145</td>\n",
       "      <td>169</td>\n",
       "      <td>40</td>\n",
       "      <td>172</td>\n",
       "      <td>272</td>\n",
       "      <td>20</td>\n",
       "      <td>150</td>\n",
       "      <td>39</td>\n",
       "      <td>64</td>\n",
       "    </tr>\n",
       "    <tr>\n",
       "      <td>12</td>\n",
       "      <td>13278</td>\n",
       "      <td>2035</td>\n",
       "      <td>1663</td>\n",
       "      <td>822</td>\n",
       "      <td>11512</td>\n",
       "      <td>1566</td>\n",
       "      <td>265</td>\n",
       "      <td>8230</td>\n",
       "      <td>47</td>\n",
       "      <td>474</td>\n",
       "      <td>1776</td>\n",
       "      <td>246</td>\n",
       "      <td>431</td>\n",
       "      <td>101</td>\n",
       "      <td>731</td>\n",
       "      <td>764</td>\n",
       "      <td>33</td>\n",
       "      <td>190</td>\n",
       "      <td>119</td>\n",
       "      <td>165</td>\n",
       "    </tr>\n",
       "    <tr>\n",
       "      <td>13</td>\n",
       "      <td>2220</td>\n",
       "      <td>510</td>\n",
       "      <td>225</td>\n",
       "      <td>176</td>\n",
       "      <td>2858</td>\n",
       "      <td>392</td>\n",
       "      <td>71</td>\n",
       "      <td>3139</td>\n",
       "      <td>7</td>\n",
       "      <td>182</td>\n",
       "      <td>343</td>\n",
       "      <td>163</td>\n",
       "      <td>170</td>\n",
       "      <td>40</td>\n",
       "      <td>138</td>\n",
       "      <td>188</td>\n",
       "      <td>29</td>\n",
       "      <td>109</td>\n",
       "      <td>29</td>\n",
       "      <td>64</td>\n",
       "    </tr>\n",
       "    <tr>\n",
       "      <td>14</td>\n",
       "      <td>10629</td>\n",
       "      <td>1582</td>\n",
       "      <td>1157</td>\n",
       "      <td>670</td>\n",
       "      <td>11001</td>\n",
       "      <td>1662</td>\n",
       "      <td>214</td>\n",
       "      <td>7775</td>\n",
       "      <td>26</td>\n",
       "      <td>326</td>\n",
       "      <td>1401</td>\n",
       "      <td>233</td>\n",
       "      <td>427</td>\n",
       "      <td>96</td>\n",
       "      <td>383</td>\n",
       "      <td>753</td>\n",
       "      <td>27</td>\n",
       "      <td>205</td>\n",
       "      <td>91</td>\n",
       "      <td>124</td>\n",
       "    </tr>\n",
       "    <tr>\n",
       "      <td>15</td>\n",
       "      <td>4876</td>\n",
       "      <td>822</td>\n",
       "      <td>633</td>\n",
       "      <td>330</td>\n",
       "      <td>4486</td>\n",
       "      <td>614</td>\n",
       "      <td>110</td>\n",
       "      <td>3606</td>\n",
       "      <td>23</td>\n",
       "      <td>189</td>\n",
       "      <td>575</td>\n",
       "      <td>92</td>\n",
       "      <td>181</td>\n",
       "      <td>42</td>\n",
       "      <td>240</td>\n",
       "      <td>294</td>\n",
       "      <td>32</td>\n",
       "      <td>112</td>\n",
       "      <td>36</td>\n",
       "      <td>63</td>\n",
       "    </tr>\n",
       "    <tr>\n",
       "      <td>16</td>\n",
       "      <td>9304</td>\n",
       "      <td>1595</td>\n",
       "      <td>1089</td>\n",
       "      <td>649</td>\n",
       "      <td>9727</td>\n",
       "      <td>1379</td>\n",
       "      <td>281</td>\n",
       "      <td>7550</td>\n",
       "      <td>29</td>\n",
       "      <td>312</td>\n",
       "      <td>1779</td>\n",
       "      <td>256</td>\n",
       "      <td>383</td>\n",
       "      <td>112</td>\n",
       "      <td>446</td>\n",
       "      <td>731</td>\n",
       "      <td>63</td>\n",
       "      <td>259</td>\n",
       "      <td>64</td>\n",
       "      <td>114</td>\n",
       "    </tr>\n",
       "    <tr>\n",
       "      <td>17</td>\n",
       "      <td>18411</td>\n",
       "      <td>2792</td>\n",
       "      <td>2126</td>\n",
       "      <td>1174</td>\n",
       "      <td>14072</td>\n",
       "      <td>1989</td>\n",
       "      <td>246</td>\n",
       "      <td>9779</td>\n",
       "      <td>74</td>\n",
       "      <td>517</td>\n",
       "      <td>2632</td>\n",
       "      <td>329</td>\n",
       "      <td>603</td>\n",
       "      <td>105</td>\n",
       "      <td>827</td>\n",
       "      <td>973</td>\n",
       "      <td>74</td>\n",
       "      <td>353</td>\n",
       "      <td>145</td>\n",
       "      <td>197</td>\n",
       "    </tr>\n",
       "    <tr>\n",
       "      <td>18</td>\n",
       "      <td>2405</td>\n",
       "      <td>442</td>\n",
       "      <td>236</td>\n",
       "      <td>183</td>\n",
       "      <td>2514</td>\n",
       "      <td>403</td>\n",
       "      <td>53</td>\n",
       "      <td>1609</td>\n",
       "      <td>6</td>\n",
       "      <td>84</td>\n",
       "      <td>833</td>\n",
       "      <td>46</td>\n",
       "      <td>96</td>\n",
       "      <td>11</td>\n",
       "      <td>96</td>\n",
       "      <td>216</td>\n",
       "      <td>10</td>\n",
       "      <td>74</td>\n",
       "      <td>25</td>\n",
       "      <td>25</td>\n",
       "    </tr>\n",
       "    <tr>\n",
       "      <td>19</td>\n",
       "      <td>2890</td>\n",
       "      <td>481</td>\n",
       "      <td>363</td>\n",
       "      <td>310</td>\n",
       "      <td>3364</td>\n",
       "      <td>455</td>\n",
       "      <td>91</td>\n",
       "      <td>2345</td>\n",
       "      <td>12</td>\n",
       "      <td>104</td>\n",
       "      <td>765</td>\n",
       "      <td>89</td>\n",
       "      <td>122</td>\n",
       "      <td>40</td>\n",
       "      <td>166</td>\n",
       "      <td>210</td>\n",
       "      <td>6</td>\n",
       "      <td>61</td>\n",
       "      <td>13</td>\n",
       "      <td>32</td>\n",
       "    </tr>\n",
       "    <tr>\n",
       "      <td>20</td>\n",
       "      <td>9852</td>\n",
       "      <td>2066</td>\n",
       "      <td>1797</td>\n",
       "      <td>1017</td>\n",
       "      <td>14029</td>\n",
       "      <td>1996</td>\n",
       "      <td>546</td>\n",
       "      <td>11020</td>\n",
       "      <td>32</td>\n",
       "      <td>570</td>\n",
       "      <td>1953</td>\n",
       "      <td>380</td>\n",
       "      <td>512</td>\n",
       "      <td>164</td>\n",
       "      <td>593</td>\n",
       "      <td>819</td>\n",
       "      <td>57</td>\n",
       "      <td>251</td>\n",
       "      <td>65</td>\n",
       "      <td>121</td>\n",
       "    </tr>\n",
       "  </tbody>\n",
       "</table>\n",
       "</div>"
      ],
      "text/plain": [
       "Product_Category_1     1     2     3     4      5     6    7      8   9    10  \\\n",
       "Occupation                                                                      \n",
       "0                   25066  4251  3707  2123  27141  3694  792  19874  72  897   \n",
       "1                   14733  2755  2195  1369  18887  2561  537  17186  44  761   \n",
       "2                    8300  1550  1390   744  10904  1473  342   8943  22  409   \n",
       "3                    5577   982   883   557   7508   982  194   5465  20  284   \n",
       "4                   27458  4379  4692  2425  29259  3842  640  19724  65  679   \n",
       "5                    5183   827   632   344   4756   549   55   2730  17  138   \n",
       "6                    6673  1189  1060   639   8094  1037  214   6877  20  265   \n",
       "7                   22998  3502  2329  1596  22221  3262  484  17981  59  779   \n",
       "8                     719   144    99    61    538    59    7    357   4   18   \n",
       "9                    1642   404   494   334   3048   263   23   1877   4   48   \n",
       "10                   4616  1033  1519   950   5176   418   60   2586  11  101   \n",
       "11                   3869   715   502   283   4855   730  120   3641  10  236   \n",
       "12                  13278  2035  1663   822  11512  1566  265   8230  47  474   \n",
       "13                   2220   510   225   176   2858   392   71   3139   7  182   \n",
       "14                  10629  1582  1157   670  11001  1662  214   7775  26  326   \n",
       "15                   4876   822   633   330   4486   614  110   3606  23  189   \n",
       "16                   9304  1595  1089   649   9727  1379  281   7550  29  312   \n",
       "17                  18411  2792  2126  1174  14072  1989  246   9779  74  517   \n",
       "18                   2405   442   236   183   2514   403   53   1609   6   84   \n",
       "19                   2890   481   363   310   3364   455   91   2345  12  104   \n",
       "20                   9852  2066  1797  1017  14029  1996  546  11020  32  570   \n",
       "\n",
       "Product_Category_1    11   12    13   14    15    16   17   18   19   20  \n",
       "Occupation                                                                \n",
       "0                   5336  633  1025  285  1019  1794   82  580  188  291  \n",
       "1                   2353  639   787  238   731  1121   88  344  139  219  \n",
       "2                   1634  340   374  110   428   621   22  205   62  123  \n",
       "3                   1014  237   300   97   244   506   19  143   49   65  \n",
       "4                   4538  541   845  263  1085  1687   67  380  178  339  \n",
       "5                   1134  104   133   30   199   317   11  135   24   55  \n",
       "6                   1206  241   290  104   291   569   30  141   63   99  \n",
       "7                   3399  634   860  228   909  1653  114  659  192  268  \n",
       "8                     89    4    13    2    37    20    2    7    5    4  \n",
       "9                    244  119    88   39    51   154    4   31   22   40  \n",
       "10                   875  139   121   39   198   271   11   47   55   78  \n",
       "11                   561  145   169   40   172   272   20  150   39   64  \n",
       "12                  1776  246   431  101   731   764   33  190  119  165  \n",
       "13                   343  163   170   40   138   188   29  109   29   64  \n",
       "14                  1401  233   427   96   383   753   27  205   91  124  \n",
       "15                   575   92   181   42   240   294   32  112   36   63  \n",
       "16                  1779  256   383  112   446   731   63  259   64  114  \n",
       "17                  2632  329   603  105   827   973   74  353  145  197  \n",
       "18                   833   46    96   11    96   216   10   74   25   25  \n",
       "19                   765   89   122   40   166   210    6   61   13   32  \n",
       "20                  1953  380   512  164   593   819   57  251   65  121  "
      ]
     },
     "execution_count": 11,
     "metadata": {},
     "output_type": "execute_result"
    }
   ],
   "source": [
    "Occ_tab = pd.crosstab(index=data[\"Occupation\"], columns=data[\"Product_Category_1\"])\n",
    "Occ_array = np.array(Occ_tab)\n",
    "\n",
    "Occ_tab"
   ]
  },
  {
   "cell_type": "code",
   "execution_count": 12,
   "metadata": {},
   "outputs": [
    {
     "name": "stdout",
     "output_type": "stream",
     "text": [
      "Chi-square statistic 13784.49193 P value 0.000000 Degrees of freedom 380\n"
     ]
    }
   ],
   "source": [
    "chi_sq_Stat, p_value, deg_freedom, exp_freq = stats.chi2_contingency(Occ_array)\n",
    "\n",
    "print('Chi-square statistic %3.5f P value %1.6f Degrees of freedom %d' %(chi_sq_Stat, p_value,deg_freedom))"
   ]
  },
  {
   "cell_type": "markdown",
   "metadata": {},
   "source": [
    "**Step 5: Decide to reject or accept null hypothesis**\n",
    "\n",
    "* Here, p value is 0 and < 0.05 so we reject the null hypothesis.\n",
    "\n",
    "* Going with the Alternative hypothesis: $H_A$: Occupation and Product_Category_1 are Not Independent. This means they are dependent."
   ]
  },
  {
   "cell_type": "markdown",
   "metadata": {},
   "source": [
    "# Checking Dependents of Marital_Status and Product_Category_1\n",
    "\n",
    "* Step 1: State the null and alternative hypothesis:\n",
    "\n",
    "**Null hypothesis: $H_0$: Marital_Status and Product_Category_1 are Independent.**\n",
    "\n",
    "**Alternative hypothesis: $H_A$: Marital_Status and Product_Category_1 are Not Independent.**\n",
    "\n",
    "* Step 2: Decide the significance level\n",
    "\n",
    "**Here we select α = 0.05**\n",
    "\n",
    "* Step 3: Identify the test statistic\n",
    "\n",
    "**We use the chi-square test of independence to find out the difference of categorical variables** \n",
    "\n",
    "* Step 4: Calculate p value or chi-square statistic value"
   ]
  },
  {
   "cell_type": "code",
   "execution_count": 13,
   "metadata": {},
   "outputs": [
    {
     "data": {
      "text/html": [
       "<div>\n",
       "<style scoped>\n",
       "    .dataframe tbody tr th:only-of-type {\n",
       "        vertical-align: middle;\n",
       "    }\n",
       "\n",
       "    .dataframe tbody tr th {\n",
       "        vertical-align: top;\n",
       "    }\n",
       "\n",
       "    .dataframe thead th {\n",
       "        text-align: right;\n",
       "    }\n",
       "</style>\n",
       "<table border=\"1\" class=\"dataframe\">\n",
       "  <thead>\n",
       "    <tr style=\"text-align: right;\">\n",
       "      <th>Product_Category_1</th>\n",
       "      <th>1</th>\n",
       "      <th>2</th>\n",
       "      <th>3</th>\n",
       "      <th>4</th>\n",
       "      <th>5</th>\n",
       "      <th>6</th>\n",
       "      <th>7</th>\n",
       "      <th>8</th>\n",
       "      <th>9</th>\n",
       "      <th>10</th>\n",
       "      <th>11</th>\n",
       "      <th>12</th>\n",
       "      <th>13</th>\n",
       "      <th>14</th>\n",
       "      <th>15</th>\n",
       "      <th>16</th>\n",
       "      <th>17</th>\n",
       "      <th>18</th>\n",
       "      <th>19</th>\n",
       "      <th>20</th>\n",
       "    </tr>\n",
       "    <tr>\n",
       "      <th>Marital_Status</th>\n",
       "      <th></th>\n",
       "      <th></th>\n",
       "      <th></th>\n",
       "      <th></th>\n",
       "      <th></th>\n",
       "      <th></th>\n",
       "      <th></th>\n",
       "      <th></th>\n",
       "      <th></th>\n",
       "      <th></th>\n",
       "      <th></th>\n",
       "      <th></th>\n",
       "      <th></th>\n",
       "      <th></th>\n",
       "      <th></th>\n",
       "      <th></th>\n",
       "      <th></th>\n",
       "      <th></th>\n",
       "      <th></th>\n",
       "      <th></th>\n",
       "    </tr>\n",
       "  </thead>\n",
       "  <tbody>\n",
       "    <tr>\n",
       "      <td>0</td>\n",
       "      <td>120577</td>\n",
       "      <td>20230</td>\n",
       "      <td>17688</td>\n",
       "      <td>10241</td>\n",
       "      <td>128015</td>\n",
       "      <td>17388</td>\n",
       "      <td>2981</td>\n",
       "      <td>93120</td>\n",
       "      <td>361</td>\n",
       "      <td>3967</td>\n",
       "      <td>20831</td>\n",
       "      <td>2913</td>\n",
       "      <td>4477</td>\n",
       "      <td>1226</td>\n",
       "      <td>5145</td>\n",
       "      <td>8170</td>\n",
       "      <td>415</td>\n",
       "      <td>2367</td>\n",
       "      <td>946</td>\n",
       "      <td>1480</td>\n",
       "    </tr>\n",
       "    <tr>\n",
       "      <td>1</td>\n",
       "      <td>80122</td>\n",
       "      <td>13826</td>\n",
       "      <td>11103</td>\n",
       "      <td>6515</td>\n",
       "      <td>87935</td>\n",
       "      <td>11938</td>\n",
       "      <td>2364</td>\n",
       "      <td>69174</td>\n",
       "      <td>243</td>\n",
       "      <td>3406</td>\n",
       "      <td>13609</td>\n",
       "      <td>2697</td>\n",
       "      <td>3453</td>\n",
       "      <td>960</td>\n",
       "      <td>3839</td>\n",
       "      <td>5763</td>\n",
       "      <td>386</td>\n",
       "      <td>2069</td>\n",
       "      <td>657</td>\n",
       "      <td>1070</td>\n",
       "    </tr>\n",
       "  </tbody>\n",
       "</table>\n",
       "</div>"
      ],
      "text/plain": [
       "Product_Category_1      1      2      3      4       5      6     7      8   \\\n",
       "Marital_Status                                                                \n",
       "0                   120577  20230  17688  10241  128015  17388  2981  93120   \n",
       "1                    80122  13826  11103   6515   87935  11938  2364  69174   \n",
       "\n",
       "Product_Category_1   9     10     11    12    13    14    15    16   17    18  \\\n",
       "Marital_Status                                                                  \n",
       "0                   361  3967  20831  2913  4477  1226  5145  8170  415  2367   \n",
       "1                   243  3406  13609  2697  3453   960  3839  5763  386  2069   \n",
       "\n",
       "Product_Category_1   19    20  \n",
       "Marital_Status                 \n",
       "0                   946  1480  \n",
       "1                   657  1070  "
      ]
     },
     "execution_count": 13,
     "metadata": {},
     "output_type": "execute_result"
    }
   ],
   "source": [
    "Marital_Status_tab = pd.crosstab(index=data[\"Marital_Status\"], columns=data[\"Product_Category_1\"])\n",
    "Marital_Status_array = np.array(Marital_Status_tab)\n",
    "Marital_Status_tab"
   ]
  },
  {
   "cell_type": "code",
   "execution_count": 14,
   "metadata": {},
   "outputs": [
    {
     "name": "stdout",
     "output_type": "stream",
     "text": [
      "Chi-square statistic 755.29005 P value 0.000000 Degrees of freedom 19\n"
     ]
    }
   ],
   "source": [
    "chi_sq_Stat, p_value, deg_freedom, exp_freq = stats.chi2_contingency(Marital_Status_array)\n",
    "\n",
    "print('Chi-square statistic %3.5f P value %1.6f Degrees of freedom %d' %(chi_sq_Stat, p_value,deg_freedom))"
   ]
  },
  {
   "cell_type": "markdown",
   "metadata": {},
   "source": [
    "**Step 5: Decide to reject or accept null hypothesis**\n",
    "\n",
    "* Here, p value is 0 and < 0.05 so we reject the null hypothesis.\n",
    "* Going with the Alternative hypothesis: $H_A$: Marital_Status and Product_Category_1 are Not Independent. This means they are dependent."
   ]
  },
  {
   "cell_type": "markdown",
   "metadata": {},
   "source": []
  },
  {
   "cell_type": "markdown",
   "metadata": {},
   "source": [
    "# Checking Dependency of Marital_Status and Stay_In_Current_City_Years\n",
    "\n",
    "* Step 1: State the null and alternative hypothesis:\n",
    "\n",
    "**Null hypothesis: $H_0$: Marital_Status and Stay_In_Current_City_Years are Independent.**\n",
    "\n",
    "**Alternative hypothesis: $H_A$: Marital_Status and Stay_In_Current_City_Years are Not Independent.*\n",
    "\n",
    "* Step 2: Decide the significance level\n",
    "\n",
    "**Here we select α = 0.05**\n",
    "\n",
    "* Step 3: Identify the test statistic\n",
    "\n",
    "**We use the chi-square test of independence to find out the difference of categorical variables** \n",
    "\n",
    "* Step 4: Calculate p value or chi-square statistic value"
   ]
  },
  {
   "cell_type": "code",
   "execution_count": 15,
   "metadata": {},
   "outputs": [
    {
     "data": {
      "text/html": [
       "<div>\n",
       "<style scoped>\n",
       "    .dataframe tbody tr th:only-of-type {\n",
       "        vertical-align: middle;\n",
       "    }\n",
       "\n",
       "    .dataframe tbody tr th {\n",
       "        vertical-align: top;\n",
       "    }\n",
       "\n",
       "    .dataframe thead th {\n",
       "        text-align: right;\n",
       "    }\n",
       "</style>\n",
       "<table border=\"1\" class=\"dataframe\">\n",
       "  <thead>\n",
       "    <tr style=\"text-align: right;\">\n",
       "      <th>Stay_In_Current_City_Years</th>\n",
       "      <th>0</th>\n",
       "      <th>1</th>\n",
       "      <th>2</th>\n",
       "      <th>3</th>\n",
       "      <th>4+</th>\n",
       "    </tr>\n",
       "    <tr>\n",
       "      <th>Marital_Status</th>\n",
       "      <th></th>\n",
       "      <th></th>\n",
       "      <th></th>\n",
       "      <th></th>\n",
       "      <th></th>\n",
       "    </tr>\n",
       "  </thead>\n",
       "  <tbody>\n",
       "    <tr>\n",
       "      <td>0</td>\n",
       "      <td>63842</td>\n",
       "      <td>157873</td>\n",
       "      <td>86730</td>\n",
       "      <td>81802</td>\n",
       "      <td>72291</td>\n",
       "    </tr>\n",
       "    <tr>\n",
       "      <td>1</td>\n",
       "      <td>41874</td>\n",
       "      <td>118552</td>\n",
       "      <td>58697</td>\n",
       "      <td>53626</td>\n",
       "      <td>48380</td>\n",
       "    </tr>\n",
       "  </tbody>\n",
       "</table>\n",
       "</div>"
      ],
      "text/plain": [
       "Stay_In_Current_City_Years      0       1      2      3     4+\n",
       "Marital_Status                                                \n",
       "0                           63842  157873  86730  81802  72291\n",
       "1                           41874  118552  58697  53626  48380"
      ]
     },
     "execution_count": 15,
     "metadata": {},
     "output_type": "execute_result"
    }
   ],
   "source": [
    "Mar_tab = pd.crosstab(index=data[\"Marital_Status\"], columns=data[\"Stay_In_Current_City_Years\"])\n",
    "Mar_array = np.array(Mar_tab)\n",
    "Mar_tab"
   ]
  },
  {
   "cell_type": "code",
   "execution_count": 16,
   "metadata": {},
   "outputs": [
    {
     "name": "stdout",
     "output_type": "stream",
     "text": [
      "Chi-square statistic 667.25198 P value 0.000000 Degrees of freedom 4\n"
     ]
    }
   ],
   "source": [
    "chi_sq_Stat, p_value, deg_freedom, exp_freq = stats.chi2_contingency(Mar_array)\n",
    "\n",
    "print('Chi-square statistic %3.5f P value %1.6f Degrees of freedom %d' %(chi_sq_Stat, p_value,deg_freedom))"
   ]
  },
  {
   "cell_type": "markdown",
   "metadata": {},
   "source": [
    "**Step 5: Decide to reject or accept null hypothesis¶**\n",
    "\n",
    "* Here, p value is 0 and < 0.05 so we reject the null hypothesis.\n",
    "\n",
    "* Going with the Alternative hypothesis: Marital_Status and Stay_In_Current_City_Years are Not Independent. This means they are dependent."
   ]
  },
  {
   "cell_type": "markdown",
   "metadata": {},
   "source": [
    "# Checking Dependency of Marital_Status and City_Category\n",
    "\n",
    "* Step 1: State the null and alternative hypothesis:\n",
    "\n",
    "**Null hypothesis: $H_0$: Marital_Status and City_Category are Independent.**\n",
    "\n",
    "**Alternative hypothesis: $H_A$: Marital_Status and City_Category are Not Independent.**\n",
    "\n",
    "* Step 2: Decide the significance level¶\n",
    "\n",
    "**Here we select α = 0.05**\n",
    "\n",
    "* Step 3: Identify the test statistic\n",
    "\n",
    "**We use the chi-square test of independence to find out the difference of categorical variables**\n",
    "\n",
    "* Step 4: Calculate p value or chi-square statistic value"
   ]
  },
  {
   "cell_type": "code",
   "execution_count": 17,
   "metadata": {},
   "outputs": [
    {
     "data": {
      "text/html": [
       "<div>\n",
       "<style scoped>\n",
       "    .dataframe tbody tr th:only-of-type {\n",
       "        vertical-align: middle;\n",
       "    }\n",
       "\n",
       "    .dataframe tbody tr th {\n",
       "        vertical-align: top;\n",
       "    }\n",
       "\n",
       "    .dataframe thead th {\n",
       "        text-align: right;\n",
       "    }\n",
       "</style>\n",
       "<table border=\"1\" class=\"dataframe\">\n",
       "  <thead>\n",
       "    <tr style=\"text-align: right;\">\n",
       "      <th>City_Category</th>\n",
       "      <th>A</th>\n",
       "      <th>B</th>\n",
       "      <th>C</th>\n",
       "    </tr>\n",
       "    <tr>\n",
       "      <th>Marital_Status</th>\n",
       "      <th></th>\n",
       "      <th></th>\n",
       "      <th></th>\n",
       "    </tr>\n",
       "  </thead>\n",
       "  <tbody>\n",
       "    <tr>\n",
       "      <td>0</td>\n",
       "      <td>129690</td>\n",
       "      <td>195153</td>\n",
       "      <td>137695</td>\n",
       "    </tr>\n",
       "    <tr>\n",
       "      <td>1</td>\n",
       "      <td>80554</td>\n",
       "      <td>134586</td>\n",
       "      <td>105989</td>\n",
       "    </tr>\n",
       "  </tbody>\n",
       "</table>\n",
       "</div>"
      ],
      "text/plain": [
       "City_Category        A       B       C\n",
       "Marital_Status                        \n",
       "0               129690  195153  137695\n",
       "1                80554  134586  105989"
      ]
     },
     "execution_count": 17,
     "metadata": {},
     "output_type": "execute_result"
    }
   ],
   "source": [
    "City_tab = pd.crosstab(index=data[\"Marital_Status\"], columns=data[\"City_Category\"])\n",
    "City_array = np.array(City_tab)\n",
    "City_tab"
   ]
  },
  {
   "cell_type": "code",
   "execution_count": 18,
   "metadata": {},
   "outputs": [
    {
     "name": "stdout",
     "output_type": "stream",
     "text": [
      "Chi-square statistic 1258.28019 P value 0.000000 Degrees of freedom 2\n"
     ]
    }
   ],
   "source": [
    "chi_sq_Stat, p_value, deg_freedom, exp_freq = stats.chi2_contingency(City_array)\n",
    "\n",
    "print('Chi-square statistic %3.5f P value %1.6f Degrees of freedom %d' %(chi_sq_Stat, p_value,deg_freedom))"
   ]
  },
  {
   "cell_type": "markdown",
   "metadata": {},
   "source": [
    "**Step 5: Decide to reject or accept null hypothesis**\n",
    "\n",
    "* Here, p value is 0 and < 0.05 so we reject the null hypothesis.\n",
    "\n",
    "* Going with the Alternative hypothesis: Marital_Status and City_Category are Not Independent. This means they are dependent."
   ]
  },
  {
   "cell_type": "markdown",
   "metadata": {},
   "source": [
    "# Checking Dependency of Marital_Status and Occupation\n",
    "\n",
    "* Step 1: State the null and alternative hypothesis:\n",
    "\n",
    "**Null hypothesis: $H_0$: Marital_Status and Occupation are Independent.**\n",
    "\n",
    "**Alternative hypothesis: $H_A$: Marital_Status and Occupation are Not Independent.**\n",
    "\n",
    "* Step 2: Decide the significance level\n",
    "\n",
    "**Here we select α = 0.05**\n",
    "\n",
    "* Step 3: Identify the test statistic\n",
    "\n",
    "**We use the chi-square test of independence to find out the difference of categorical variables** \n",
    "\n",
    "* Step 4: Calculate p value or chi-square statistic value"
   ]
  },
  {
   "cell_type": "code",
   "execution_count": 19,
   "metadata": {},
   "outputs": [
    {
     "data": {
      "text/html": [
       "<div>\n",
       "<style scoped>\n",
       "    .dataframe tbody tr th:only-of-type {\n",
       "        vertical-align: middle;\n",
       "    }\n",
       "\n",
       "    .dataframe tbody tr th {\n",
       "        vertical-align: top;\n",
       "    }\n",
       "\n",
       "    .dataframe thead th {\n",
       "        text-align: right;\n",
       "    }\n",
       "</style>\n",
       "<table border=\"1\" class=\"dataframe\">\n",
       "  <thead>\n",
       "    <tr style=\"text-align: right;\">\n",
       "      <th>Occupation</th>\n",
       "      <th>0</th>\n",
       "      <th>1</th>\n",
       "      <th>2</th>\n",
       "      <th>3</th>\n",
       "      <th>4</th>\n",
       "      <th>5</th>\n",
       "      <th>6</th>\n",
       "      <th>7</th>\n",
       "      <th>8</th>\n",
       "      <th>9</th>\n",
       "      <th>...</th>\n",
       "      <th>11</th>\n",
       "      <th>12</th>\n",
       "      <th>13</th>\n",
       "      <th>14</th>\n",
       "      <th>15</th>\n",
       "      <th>16</th>\n",
       "      <th>17</th>\n",
       "      <th>18</th>\n",
       "      <th>19</th>\n",
       "      <th>20</th>\n",
       "    </tr>\n",
       "    <tr>\n",
       "      <th>Marital_Status</th>\n",
       "      <th></th>\n",
       "      <th></th>\n",
       "      <th></th>\n",
       "      <th></th>\n",
       "      <th></th>\n",
       "      <th></th>\n",
       "      <th></th>\n",
       "      <th></th>\n",
       "      <th></th>\n",
       "      <th></th>\n",
       "      <th></th>\n",
       "      <th></th>\n",
       "      <th></th>\n",
       "      <th></th>\n",
       "      <th></th>\n",
       "      <th></th>\n",
       "      <th></th>\n",
       "      <th></th>\n",
       "      <th></th>\n",
       "      <th></th>\n",
       "      <th></th>\n",
       "    </tr>\n",
       "  </thead>\n",
       "  <tbody>\n",
       "    <tr>\n",
       "      <td>0</td>\n",
       "      <td>57450</td>\n",
       "      <td>35360</td>\n",
       "      <td>20457</td>\n",
       "      <td>14700</td>\n",
       "      <td>75126</td>\n",
       "      <td>10810</td>\n",
       "      <td>15986</td>\n",
       "      <td>47457</td>\n",
       "      <td>961</td>\n",
       "      <td>4378</td>\n",
       "      <td>...</td>\n",
       "      <td>10287</td>\n",
       "      <td>23756</td>\n",
       "      <td>5183</td>\n",
       "      <td>22724</td>\n",
       "      <td>9566</td>\n",
       "      <td>19014</td>\n",
       "      <td>32638</td>\n",
       "      <td>5101</td>\n",
       "      <td>9750</td>\n",
       "      <td>24591</td>\n",
       "    </tr>\n",
       "    <tr>\n",
       "      <td>1</td>\n",
       "      <td>41400</td>\n",
       "      <td>32327</td>\n",
       "      <td>17539</td>\n",
       "      <td>10426</td>\n",
       "      <td>27960</td>\n",
       "      <td>6563</td>\n",
       "      <td>13116</td>\n",
       "      <td>36670</td>\n",
       "      <td>1228</td>\n",
       "      <td>4551</td>\n",
       "      <td>...</td>\n",
       "      <td>6306</td>\n",
       "      <td>20692</td>\n",
       "      <td>5870</td>\n",
       "      <td>16058</td>\n",
       "      <td>7790</td>\n",
       "      <td>17108</td>\n",
       "      <td>24780</td>\n",
       "      <td>4266</td>\n",
       "      <td>2169</td>\n",
       "      <td>23249</td>\n",
       "    </tr>\n",
       "  </tbody>\n",
       "</table>\n",
       "<p>2 rows × 21 columns</p>\n",
       "</div>"
      ],
      "text/plain": [
       "Occupation         0      1      2      3      4      5      6      7     8   \\\n",
       "Marital_Status                                                                 \n",
       "0               57450  35360  20457  14700  75126  10810  15986  47457   961   \n",
       "1               41400  32327  17539  10426  27960   6563  13116  36670  1228   \n",
       "\n",
       "Occupation        9   ...     11     12    13     14    15     16     17  \\\n",
       "Marital_Status        ...                                                  \n",
       "0               4378  ...  10287  23756  5183  22724  9566  19014  32638   \n",
       "1               4551  ...   6306  20692  5870  16058  7790  17108  24780   \n",
       "\n",
       "Occupation        18    19     20  \n",
       "Marital_Status                     \n",
       "0               5101  9750  24591  \n",
       "1               4266  2169  23249  \n",
       "\n",
       "[2 rows x 21 columns]"
      ]
     },
     "execution_count": 19,
     "metadata": {},
     "output_type": "execute_result"
    }
   ],
   "source": [
    "MarOccupation_tab = pd.crosstab(index=data[\"Marital_Status\"], columns=data[\"Occupation\"])\n",
    "MarOccupation_array = np.array(MarOccupation_tab)\n",
    "MarOccupation_tab"
   ]
  },
  {
   "cell_type": "code",
   "execution_count": 20,
   "metadata": {},
   "outputs": [
    {
     "name": "stdout",
     "output_type": "stream",
     "text": [
      "Chi-square statistic 26306.09627 P value 0.000000 Degrees of freedom 20\n"
     ]
    }
   ],
   "source": [
    "chi_sq_Stat, p_value, deg_freedom, exp_freq = stats.chi2_contingency(MarOccupation_array)\n",
    "print('Chi-square statistic %3.5f P value %1.6f Degrees of freedom %d' %(chi_sq_Stat, p_value,deg_freedom))"
   ]
  },
  {
   "cell_type": "markdown",
   "metadata": {},
   "source": [
    "**Step 5: Decide to reject or accept null hypothesis¶**\n",
    "\n",
    "* Here, p value is 0 and < 0.05 so we reject the null hypothesis.\n",
    "\n",
    "* Going with the Alternative hypothesis: Marital_Status and Occupation are Not Independent. This means they are dependent."
   ]
  },
  {
   "cell_type": "markdown",
   "metadata": {},
   "source": [
    "# Checking Dependency of Marital_Status and Age\n",
    "\n",
    "* Step 1: State the null and alternative hypothesis:¶\n",
    "\n",
    "**Null hypothesis: $H_0$: Marital_Status and Age are Independent.**\n",
    "\n",
    "**Alternative hypothesis: $H_A$: Marital_Status and Age are Not Independent.**\n",
    "\n",
    "* Step 2: Decide the significance level\n",
    "\n",
    "**Here we select α = 0.05**\n",
    "\n",
    "* Step 3: Identify the test statistic\n",
    "\n",
    "**We use the chi-square test of independence to find out the difference of categorical variables**\n",
    "\n",
    "* Step 4: Calculate p value or chi-square statistic value"
   ]
  },
  {
   "cell_type": "code",
   "execution_count": 21,
   "metadata": {},
   "outputs": [
    {
     "data": {
      "text/html": [
       "<div>\n",
       "<style scoped>\n",
       "    .dataframe tbody tr th:only-of-type {\n",
       "        vertical-align: middle;\n",
       "    }\n",
       "\n",
       "    .dataframe tbody tr th {\n",
       "        vertical-align: top;\n",
       "    }\n",
       "\n",
       "    .dataframe thead th {\n",
       "        text-align: right;\n",
       "    }\n",
       "</style>\n",
       "<table border=\"1\" class=\"dataframe\">\n",
       "  <thead>\n",
       "    <tr style=\"text-align: right;\">\n",
       "      <th>Age</th>\n",
       "      <th>0-17</th>\n",
       "      <th>18-25</th>\n",
       "      <th>26-35</th>\n",
       "      <th>36-45</th>\n",
       "      <th>46-50</th>\n",
       "      <th>51-55</th>\n",
       "      <th>55+</th>\n",
       "    </tr>\n",
       "    <tr>\n",
       "      <th>Marital_Status</th>\n",
       "      <th></th>\n",
       "      <th></th>\n",
       "      <th></th>\n",
       "      <th></th>\n",
       "      <th></th>\n",
       "      <th></th>\n",
       "      <th></th>\n",
       "    </tr>\n",
       "  </thead>\n",
       "  <tbody>\n",
       "    <tr>\n",
       "      <td>0</td>\n",
       "      <td>21334</td>\n",
       "      <td>111821</td>\n",
       "      <td>189800</td>\n",
       "      <td>94766</td>\n",
       "      <td>18205</td>\n",
       "      <td>15352</td>\n",
       "      <td>11260</td>\n",
       "    </tr>\n",
       "    <tr>\n",
       "      <td>1</td>\n",
       "      <td>0</td>\n",
       "      <td>30132</td>\n",
       "      <td>123215</td>\n",
       "      <td>61958</td>\n",
       "      <td>47073</td>\n",
       "      <td>39432</td>\n",
       "      <td>19319</td>\n",
       "    </tr>\n",
       "  </tbody>\n",
       "</table>\n",
       "</div>"
      ],
      "text/plain": [
       "Age              0-17   18-25   26-35  36-45  46-50  51-55    55+\n",
       "Marital_Status                                                   \n",
       "0               21334  111821  189800  94766  18205  15352  11260\n",
       "1                   0   30132  123215  61958  47073  39432  19319"
      ]
     },
     "execution_count": 21,
     "metadata": {},
     "output_type": "execute_result"
    }
   ],
   "source": [
    "MarAge_tab = pd.crosstab(index=data[\"Marital_Status\"], columns=data[\"Age\"])\n",
    "MarAge_array = np.array(MarAge_tab)\n",
    "MarAge_tab"
   ]
  },
  {
   "cell_type": "code",
   "execution_count": 22,
   "metadata": {},
   "outputs": [
    {
     "name": "stdout",
     "output_type": "stream",
     "text": [
      "Chi-square statistic 92339.66563 P value 0.000000 Degrees of freedom 6\n"
     ]
    }
   ],
   "source": [
    "chi_sq_Stat, p_value, deg_freedom, exp_freq = stats.chi2_contingency(MarAge_array)\n",
    "print('Chi-square statistic %3.5f P value %1.6f Degrees of freedom %d' %(chi_sq_Stat, p_value,deg_freedom))"
   ]
  },
  {
   "cell_type": "markdown",
   "metadata": {},
   "source": [
    "**Step 5: Decide to reject or accept null hypothesis**\n",
    "\n",
    "* Here, p value is 0 and < 0.05 so we reject the null hypothesis.\n",
    "\n",
    "* Going with the Alternative hypothesis: Marital_Status and Age are Not Independent. This means they are dependent"
   ]
  },
  {
   "cell_type": "markdown",
   "metadata": {},
   "source": [
    "# Checking Dependency of Marital_Status and Gender\n",
    "\n",
    "* Step 1: State the null and alternative hypothesis:¶\n",
    "\n",
    "**Null hypothesis: $H_0$: Marital_Status and Gender are Independent.**\n",
    "\n",
    "**Alternative hypothesis: $H_A$: Marital_Status and Gender are Not Independent.**\n",
    "\n",
    "* Step 2: Decide the significance level\n",
    "\n",
    "**Here we select α = 0.05**\n",
    "\n",
    "* Step 3: Identify the test statistic\n",
    "\n",
    "**We use the chi-square test of independence to find out the difference of categorical variables**\n",
    "\n",
    "* Step 4: Calculate p value or chi-square statistic value"
   ]
  },
  {
   "cell_type": "code",
   "execution_count": 23,
   "metadata": {},
   "outputs": [
    {
     "data": {
      "text/html": [
       "<div>\n",
       "<style scoped>\n",
       "    .dataframe tbody tr th:only-of-type {\n",
       "        vertical-align: middle;\n",
       "    }\n",
       "\n",
       "    .dataframe tbody tr th {\n",
       "        vertical-align: top;\n",
       "    }\n",
       "\n",
       "    .dataframe thead th {\n",
       "        text-align: right;\n",
       "    }\n",
       "</style>\n",
       "<table border=\"1\" class=\"dataframe\">\n",
       "  <thead>\n",
       "    <tr style=\"text-align: right;\">\n",
       "      <th>Gender</th>\n",
       "      <th>F</th>\n",
       "      <th>M</th>\n",
       "    </tr>\n",
       "    <tr>\n",
       "      <th>Marital_Status</th>\n",
       "      <th></th>\n",
       "      <th></th>\n",
       "    </tr>\n",
       "  </thead>\n",
       "  <tbody>\n",
       "    <tr>\n",
       "      <td>0</td>\n",
       "      <td>112469</td>\n",
       "      <td>350069</td>\n",
       "    </tr>\n",
       "    <tr>\n",
       "      <td>1</td>\n",
       "      <td>81167</td>\n",
       "      <td>239962</td>\n",
       "    </tr>\n",
       "  </tbody>\n",
       "</table>\n",
       "</div>"
      ],
      "text/plain": [
       "Gender               F       M\n",
       "Marital_Status                \n",
       "0               112469  350069\n",
       "1                81167  239962"
      ]
     },
     "execution_count": 23,
     "metadata": {},
     "output_type": "execute_result"
    }
   ],
   "source": [
    "MarGender_tab = pd.crosstab(index=data[\"Marital_Status\"], columns=data[\"Gender\"])\n",
    "MarGender_array = np.array(MarGender_tab)\n",
    "MarGender_tab"
   ]
  },
  {
   "cell_type": "code",
   "execution_count": 24,
   "metadata": {},
   "outputs": [
    {
     "name": "stdout",
     "output_type": "stream",
     "text": [
      "Chi-square statistic 93.82108 P value 0.000000 Degrees of freedom 1\n"
     ]
    }
   ],
   "source": [
    "chi_sq_Stat, p_value, deg_freedom, exp_freq = stats.chi2_contingency(MarGender_array)\n",
    "\n",
    "print('Chi-square statistic %3.5f P value %1.6f Degrees of freedom %d' %(chi_sq_Stat, p_value,deg_freedom))"
   ]
  },
  {
   "cell_type": "markdown",
   "metadata": {},
   "source": [
    "**Step 5: Decide to reject or accept null hypothesis¶**\n",
    "\n",
    "* Here, p value is 0 and < 0.05 so we reject the null hypothesis.\n",
    "\n",
    "* Going with the Alternative hypothesis: Marital_Status and Gender are Not Independent. This means they are dependent."
   ]
  },
  {
   "cell_type": "code",
   "execution_count": null,
   "metadata": {},
   "outputs": [],
   "source": []
  },
  {
   "cell_type": "markdown",
   "metadata": {},
   "source": [
    "# ANOVA of Purchase based on\n",
    "   - Gender\n",
    "   - City Category\n",
    "   - Marital Status\n"
   ]
  },
  {
   "cell_type": "markdown",
   "metadata": {},
   "source": [
    "# Gender"
   ]
  },
  {
   "cell_type": "code",
   "execution_count": 25,
   "metadata": {},
   "outputs": [],
   "source": [
    "import statsmodels.api as sm\n",
    "from statsmodels.formula.api import ols\n",
    "from statsmodels.stats.anova import anova_lm\n",
    "from statsmodels.stats.multicomp import pairwise_tukeyhsd, MultiComparison"
   ]
  },
  {
   "cell_type": "code",
   "execution_count": 103,
   "metadata": {},
   "outputs": [],
   "source": [
    "train.drop([\"User_ID\",\"Product_ID\",\"Product_Category_3\"],axis=1,inplace=True)"
   ]
  },
  {
   "cell_type": "code",
   "execution_count": 40,
   "metadata": {},
   "outputs": [
    {
     "data": {
      "text/plain": [
       "Index(['Gender', 'Age', 'Occupation', 'City_Category',\n",
       "       'Stay_In_Current_City_Years', 'Marital_Status', 'Product_Category_1',\n",
       "       'Purchase'],\n",
       "      dtype='object')"
      ]
     },
     "execution_count": 40,
     "metadata": {},
     "output_type": "execute_result"
    }
   ],
   "source": [
    "train.columns"
   ]
  },
  {
   "cell_type": "code",
   "execution_count": 46,
   "metadata": {},
   "outputs": [
    {
     "name": "stdout",
     "output_type": "stream",
     "text": [
      "              df        sum_sq       mean_sq          F        PR(>F)\n",
      "Gender       1.0  1.123042e+09  1.123042e+09  47.346759  6.304179e-12\n",
      "Residual  9998.0  2.371477e+11  2.371952e+07        NaN           NaN\n"
     ]
    }
   ],
   "source": [
    "modelGender = ols(formula= 'Purchase ~ (Gender)', data=train[0:10000]).fit()\n",
    "\n",
    "aov_table = anova_lm(modelGender, type = 2)\n",
    "print(aov_table)"
   ]
  },
  {
   "cell_type": "code",
   "execution_count": 91,
   "metadata": {},
   "outputs": [
    {
     "name": "stdout",
     "output_type": "stream",
     "text": [
      "The means are not equal\n"
     ]
    }
   ],
   "source": [
    "if aov_table['PR(>F)'][0] <0.05:\n",
    "    print(\"The means are not equal\")\n",
    "else:\n",
    "    print(\"The means are equal\")"
   ]
  },
  {
   "cell_type": "markdown",
   "metadata": {},
   "source": [
    "# City Category"
   ]
  },
  {
   "cell_type": "code",
   "execution_count": 50,
   "metadata": {},
   "outputs": [
    {
     "name": "stdout",
     "output_type": "stream",
     "text": [
      "                      df        sum_sq       mean_sq          F        PR(>F)\n",
      "C(City_Category)     2.0  1.763421e+09  8.817105e+08  37.269283  7.485133e-17\n",
      "Residual          9997.0  2.365074e+11  2.365783e+07        NaN           NaN\n"
     ]
    }
   ],
   "source": [
    "modelCity = ols(formula= 'Purchase ~ C(City_Category)', data=train[0:10000]).fit()\n",
    "\n",
    "aov_table = anova_lm(modelCity, type = 2)\n",
    "print(aov_table)"
   ]
  },
  {
   "cell_type": "code",
   "execution_count": 92,
   "metadata": {},
   "outputs": [
    {
     "name": "stdout",
     "output_type": "stream",
     "text": [
      "The means are not equal\n"
     ]
    }
   ],
   "source": [
    "if aov_table['PR(>F)'][0] <0.05:\n",
    "    print(\"The means are not equal\")\n",
    "else:\n",
    "    print(\"The means are equal\")\n"
   ]
  },
  {
   "cell_type": "code",
   "execution_count": 93,
   "metadata": {},
   "outputs": [
    {
     "name": "stdout",
     "output_type": "stream",
     "text": [
      " Multiple Comparison of Means - Tukey HSD, FWER=0.05 \n",
      "=====================================================\n",
      "group1 group2 meandiff p-adj  lower    upper   reject\n",
      "-----------------------------------------------------\n",
      "     A      B 239.3613 0.001 200.2275 278.4952   True\n",
      "     A      C 807.9818 0.001 766.2596 849.7039   True\n",
      "     B      C 568.6204 0.001 531.1581 606.0828   True\n",
      "-----------------------------------------------------\n"
     ]
    }
   ],
   "source": [
    "mcCity = MultiComparison(train.Purchase, train.City_Category)\n",
    "resultCity = mcCity.tukeyhsd(alpha=0.05)\n",
    "\n",
    "print(resultCity)"
   ]
  },
  {
   "cell_type": "code",
   "execution_count": 94,
   "metadata": {},
   "outputs": [
    {
     "name": "stdout",
     "output_type": "stream",
     "text": [
      "8911.939216084484\n",
      "9151.300562781986\n",
      "9719.92099313568\n"
     ]
    }
   ],
   "source": [
    "print(train[train['City_Category'] == 'A']['Purchase'].mean())\n",
    "print(train[train['City_Category'] == 'B']['Purchase'].mean())\n",
    "print(train[train['City_Category'] == 'C']['Purchase'].mean())"
   ]
  },
  {
   "cell_type": "markdown",
   "metadata": {},
   "source": [
    "# Marital Status"
   ]
  },
  {
   "cell_type": "code",
   "execution_count": 95,
   "metadata": {},
   "outputs": [
    {
     "name": "stdout",
     "output_type": "stream",
     "text": [
      "                       df        sum_sq       mean_sq         F    PR(>F)\n",
      "C(Marital_Status)     1.0  1.311806e+05  1.311806e+05  0.005504  0.940859\n",
      "Residual           9998.0  2.382707e+11  2.383183e+07       NaN       NaN\n"
     ]
    }
   ],
   "source": [
    "modelMarriage = ols(formula= 'Purchase ~ C(Marital_Status)', data=train[0:10000]).fit()\n",
    "\n",
    "aov_table = anova_lm(modelMarriage, type = 2)\n",
    "print(aov_table)\n",
    "\n"
   ]
  },
  {
   "cell_type": "code",
   "execution_count": 96,
   "metadata": {},
   "outputs": [
    {
     "name": "stdout",
     "output_type": "stream",
     "text": [
      "The means are equal\n"
     ]
    }
   ],
   "source": [
    "if aov_table['PR(>F)'][0] <0.05:\n",
    "    print(\"The means are not equal, apply TUKEY-KRAMER's Test\")\n",
    "else:\n",
    "    print(\"The means are equal\")"
   ]
  },
  {
   "cell_type": "markdown",
   "metadata": {},
   "source": [
    "# Occupation"
   ]
  },
  {
   "cell_type": "code",
   "execution_count": 72,
   "metadata": {},
   "outputs": [
    {
     "data": {
      "text/plain": [
       "F_onewayResult(statistic=1867731.9230829645, pvalue=0.0)"
      ]
     },
     "execution_count": 72,
     "metadata": {},
     "output_type": "execute_result"
    }
   ],
   "source": [
    "from scipy.stats import f_oneway\n",
    "f_oneway(train[\"Occupation\"],train[\"Purchase\"])"
   ]
  },
  {
   "cell_type": "code",
   "execution_count": 73,
   "metadata": {},
   "outputs": [
    {
     "name": "stdout",
     "output_type": "stream",
     "text": [
      "                     df        sum_sq       mean_sq          F  PR(>F)\n",
      "C(Occupation)      20.0  4.951671e+10  2.475836e+09  98.473775     0.0\n",
      "Residual       550047.0  1.382933e+13  2.514208e+07        NaN     NaN\n"
     ]
    }
   ],
   "source": [
    "modelCity = ols(formula= 'Purchase ~ C(Occupation)', data=train).fit()\n",
    "\n",
    "aov_table = anova_lm(modelCity, type = 2)\n",
    "print(aov_table)\n"
   ]
  },
  {
   "cell_type": "code",
   "execution_count": 74,
   "metadata": {},
   "outputs": [
    {
     "name": "stdout",
     "output_type": "stream",
     "text": [
      "The means are not equal\n"
     ]
    }
   ],
   "source": [
    "if aov_table['PR(>F)'][0] <0.05:\n",
    "    print(\"The means are not equal\")\n",
    "else:\n",
    "    print(\"The means are equal\")"
   ]
  },
  {
   "cell_type": "markdown",
   "metadata": {},
   "source": [
    "# AGE"
   ]
  },
  {
   "cell_type": "code",
   "execution_count": 80,
   "metadata": {},
   "outputs": [],
   "source": [
    "age_dict = {'0-17':0, '18-25':1, '26-35':2, '36-45':3, '46-50':4, '51-55':5, '55+':6}\n",
    "train[\"Age\"] = train[\"Age\"].apply(lambda x: age_dict[x])"
   ]
  },
  {
   "cell_type": "code",
   "execution_count": 81,
   "metadata": {},
   "outputs": [
    {
     "data": {
      "text/plain": [
       "F_onewayResult(statistic=1869987.6901634906, pvalue=0.0)"
      ]
     },
     "execution_count": 81,
     "metadata": {},
     "output_type": "execute_result"
    }
   ],
   "source": [
    "f_oneway(train[\"Age\"],train[\"Purchase\"])"
   ]
  },
  {
   "cell_type": "code",
   "execution_count": 82,
   "metadata": {},
   "outputs": [
    {
     "name": "stdout",
     "output_type": "stream",
     "text": [
      "                df        sum_sq       mean_sq          F        PR(>F)\n",
      "C(Age)         6.0  6.140003e+09  1.023334e+09  40.575799  1.053564e-49\n",
      "Residual  550061.0  1.387270e+13  2.522030e+07        NaN           NaN\n"
     ]
    }
   ],
   "source": [
    "modelCity = ols(formula= 'Purchase ~ C(Age)', data=train).fit()\n",
    "\n",
    "aov_table = anova_lm(modelCity, type = 2)\n",
    "print(aov_table)"
   ]
  },
  {
   "cell_type": "code",
   "execution_count": 83,
   "metadata": {},
   "outputs": [
    {
     "name": "stdout",
     "output_type": "stream",
     "text": [
      "The means are not equal\n"
     ]
    }
   ],
   "source": [
    "if aov_table['PR(>F)'][0] <0.05:\n",
    "    print(\"The means are not equal\")\n",
    "else:\n",
    "    print(\"The means are equal\")"
   ]
  },
  {
   "cell_type": "markdown",
   "metadata": {},
   "source": [
    "# Stay_In_Current_City_Years"
   ]
  },
  {
   "cell_type": "code",
   "execution_count": 86,
   "metadata": {},
   "outputs": [],
   "source": [
    "stay_dict = {'0':0, '1':1, '2':2, '3':3, '4+':4}\n",
    "train[\"Stay_In_Current_City_Years\"] = train[\"Stay_In_Current_City_Years\"].apply(lambda x: stay_dict[x])"
   ]
  },
  {
   "cell_type": "code",
   "execution_count": 87,
   "metadata": {},
   "outputs": [
    {
     "data": {
      "text/plain": [
       "F_onewayResult(statistic=1870245.3541570134, pvalue=0.0)"
      ]
     },
     "execution_count": 87,
     "metadata": {},
     "output_type": "execute_result"
    }
   ],
   "source": [
    "f_oneway(train[\"Stay_In_Current_City_Years\"],train[\"Purchase\"])"
   ]
  },
  {
   "cell_type": "code",
   "execution_count": 88,
   "metadata": {},
   "outputs": [
    {
     "name": "stdout",
     "output_type": "stream",
     "text": [
      "                                     df        sum_sq       mean_sq         F  \\\n",
      "C(Stay_In_Current_City_Years)       4.0  9.468844e+08  2.367211e+08  9.382655   \n",
      "Residual                       550063.0  1.387790e+13  2.522965e+07       NaN   \n",
      "\n",
      "                                     PR(>F)  \n",
      "C(Stay_In_Current_City_Years)  1.401144e-07  \n",
      "Residual                                NaN  \n"
     ]
    }
   ],
   "source": [
    "modelCity = ols(formula= 'Purchase ~ C(Stay_In_Current_City_Years)', data=train).fit()\n",
    "\n",
    "aov_table = anova_lm(modelCity, type = 2)\n",
    "print(aov_table)"
   ]
  },
  {
   "cell_type": "code",
   "execution_count": 89,
   "metadata": {},
   "outputs": [
    {
     "name": "stdout",
     "output_type": "stream",
     "text": [
      "The means are not equal\n"
     ]
    }
   ],
   "source": [
    "if aov_table['PR(>F)'][0] <0.05:\n",
    "    print(\"The means are not equal\")\n",
    "else:\n",
    "    print(\"The means are equal\")"
   ]
  },
  {
   "cell_type": "markdown",
   "metadata": {},
   "source": [
    "# Product_Category_1"
   ]
  },
  {
   "cell_type": "code",
   "execution_count": 98,
   "metadata": {},
   "outputs": [
    {
     "data": {
      "text/plain": [
       "F_onewayResult(statistic=1868812.6160895713, pvalue=0.0)"
      ]
     },
     "execution_count": 98,
     "metadata": {},
     "output_type": "execute_result"
    }
   ],
   "source": [
    "f_oneway(train[\"Product_Category_1\"],train[\"Purchase\"])"
   ]
  },
  {
   "cell_type": "code",
   "execution_count": 100,
   "metadata": {},
   "outputs": [
    {
     "name": "stdout",
     "output_type": "stream",
     "text": [
      "                             df        sum_sq       mean_sq             F  \\\n",
      "C(Product_Category_1)      19.0  8.834630e+12  4.649805e+11  50703.974421   \n",
      "Residual               550048.0  5.044212e+12  9.170495e+06           NaN   \n",
      "\n",
      "                       PR(>F)  \n",
      "C(Product_Category_1)     0.0  \n",
      "Residual                  NaN  \n"
     ]
    }
   ],
   "source": [
    "modelCity = ols(formula= 'Purchase ~ C(Product_Category_1)', data=train).fit()\n",
    "\n",
    "aov_table = anova_lm(modelCity)\n",
    "print(aov_table)"
   ]
  },
  {
   "cell_type": "code",
   "execution_count": 101,
   "metadata": {},
   "outputs": [
    {
     "name": "stdout",
     "output_type": "stream",
     "text": [
      "The means are not equal\n"
     ]
    }
   ],
   "source": [
    "if aov_table['PR(>F)'][0] <0.05:\n",
    "    print(\"The means are not equal\")\n",
    "else:\n",
    "    print(\"The means are equal\")"
   ]
  },
  {
   "cell_type": "markdown",
   "metadata": {},
   "source": [
    "# Product_Category_2"
   ]
  },
  {
   "cell_type": "code",
   "execution_count": 104,
   "metadata": {},
   "outputs": [],
   "source": [
    "train[\"Product_Category_2\"]=train[\"Product_Category_2\"].fillna(-99)"
   ]
  },
  {
   "cell_type": "code",
   "execution_count": 105,
   "metadata": {},
   "outputs": [
    {
     "data": {
      "text/plain": [
       "F_onewayResult(statistic=1880719.6534673236, pvalue=0.0)"
      ]
     },
     "execution_count": 105,
     "metadata": {},
     "output_type": "execute_result"
    }
   ],
   "source": [
    "f_oneway(train[\"Product_Category_2\"],train[\"Purchase\"])"
   ]
  },
  {
   "cell_type": "code",
   "execution_count": 106,
   "metadata": {},
   "outputs": [
    {
     "name": "stdout",
     "output_type": "stream",
     "text": [
      "                             df        sum_sq       mean_sq            F  \\\n",
      "C(Product_Category_2)      17.0  2.177073e+12  1.280631e+11  6019.698014   \n",
      "Residual               550050.0  1.170177e+13  2.127401e+07          NaN   \n",
      "\n",
      "                       PR(>F)  \n",
      "C(Product_Category_2)     0.0  \n",
      "Residual                  NaN  \n"
     ]
    }
   ],
   "source": [
    "modelCity = ols(formula= 'Purchase ~ C(Product_Category_2)', data=train).fit()\n",
    "\n",
    "aov_table = anova_lm(modelCity)\n",
    "print(aov_table)"
   ]
  },
  {
   "cell_type": "code",
   "execution_count": 107,
   "metadata": {},
   "outputs": [
    {
     "name": "stdout",
     "output_type": "stream",
     "text": [
      "The means are not equal\n"
     ]
    }
   ],
   "source": [
    "if aov_table['PR(>F)'][0] <0.05:\n",
    "    print(\"The means are not equal\")\n",
    "else:\n",
    "    print(\"The means are equal\")"
   ]
  }
 ],
 "metadata": {
  "kernelspec": {
   "display_name": "Python 3",
   "language": "python",
   "name": "python3"
  },
  "language_info": {
   "codemirror_mode": {
    "name": "ipython",
    "version": 3
   },
   "file_extension": ".py",
   "mimetype": "text/x-python",
   "name": "python",
   "nbconvert_exporter": "python",
   "pygments_lexer": "ipython3",
   "version": "3.7.4"
  }
 },
 "nbformat": 4,
 "nbformat_minor": 2
}
