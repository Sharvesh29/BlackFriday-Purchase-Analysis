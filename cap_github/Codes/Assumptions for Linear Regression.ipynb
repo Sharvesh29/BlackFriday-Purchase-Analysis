{
 "cells": [
  {
   "cell_type": "code",
   "execution_count": 1,
   "metadata": {},
   "outputs": [],
   "source": [
    "import pandas as pd\n",
    "import numpy as np\n",
    "from mlxtend.feature_selection import SequentialFeatureSelector as sfs\n",
    "from sklearn.model_selection import GridSearchCV, RandomizedSearchCV\n",
    "from sklearn.model_selection import KFold, RepeatedKFold,StratifiedKFold, train_test_split\n",
    "from scipy.stats import randint as sp_randint\n",
    "import warnings\n",
    "warnings.simplefilter(action='ignore', category=FutureWarning)\n",
    "warnings.simplefilter(action='ignore', category=UserWarning)\n",
    "import seaborn as sns\n",
    "from sklearn.preprocessing import StandardScaler\n",
    "import matplotlib.pyplot as plt\n",
    "%matplotlib inline"
   ]
  },
  {
   "cell_type": "code",
   "execution_count": 2,
   "metadata": {},
   "outputs": [],
   "source": [
    "train = pd.read_csv('train.csv')\n",
    "test = pd.read_csv('test.csv')"
   ]
  },
  {
   "cell_type": "code",
   "execution_count": 3,
   "metadata": {},
   "outputs": [
    {
     "data": {
      "text/plain": [
       "(550068, 12)"
      ]
     },
     "execution_count": 3,
     "metadata": {},
     "output_type": "execute_result"
    }
   ],
   "source": [
    "train.shape"
   ]
  },
  {
   "cell_type": "code",
   "execution_count": 4,
   "metadata": {},
   "outputs": [
    {
     "data": {
      "text/plain": [
       "(233599, 11)"
      ]
     },
     "execution_count": 4,
     "metadata": {},
     "output_type": "execute_result"
    }
   ],
   "source": [
    "test.shape"
   ]
  },
  {
   "cell_type": "code",
   "execution_count": 5,
   "metadata": {},
   "outputs": [],
   "source": [
    "df1=train.drop([\"User_ID\",\"Product_ID\",\"Product_Category_3\"],axis=1)\n",
    "df2=test.drop([\"User_ID\",\"Product_ID\",\"Product_Category_3\"],axis=1)\n"
   ]
  },
  {
   "cell_type": "code",
   "execution_count": 6,
   "metadata": {},
   "outputs": [
    {
     "data": {
      "text/plain": [
       "(550068, 9)"
      ]
     },
     "execution_count": 6,
     "metadata": {},
     "output_type": "execute_result"
    }
   ],
   "source": [
    "df1.shape"
   ]
  },
  {
   "cell_type": "code",
   "execution_count": 7,
   "metadata": {},
   "outputs": [
    {
     "data": {
      "text/plain": [
       "(233599, 8)"
      ]
     },
     "execution_count": 7,
     "metadata": {},
     "output_type": "execute_result"
    }
   ],
   "source": [
    "df2.shape"
   ]
  },
  {
   "cell_type": "code",
   "execution_count": 8,
   "metadata": {},
   "outputs": [],
   "source": [
    "df1[\"Product_Category_2\"]=df1[\"Product_Category_2\"].fillna(-99)\n",
    "df2[\"Product_Category_2\"]=df2[\"Product_Category_2\"].fillna(-99)"
   ]
  },
  {
   "cell_type": "code",
   "execution_count": 9,
   "metadata": {},
   "outputs": [],
   "source": [
    "df1[\"Occupation\"]=df1[\"Occupation\"].astype(object)\n",
    "df2[\"Occupation\"]=df2[\"Occupation\"].astype(object)"
   ]
  },
  {
   "cell_type": "code",
   "execution_count": 10,
   "metadata": {},
   "outputs": [],
   "source": [
    "df1[\"Marital_Status\"]=df1[\"Marital_Status\"].astype(object)\n",
    "df1[\"Product_Category_1\"]=df1[\"Product_Category_1\"].astype(object)\n",
    "df1[\"Product_Category_2\"]=df1[\"Product_Category_2\"].astype(object)\n",
    "df1[\"Stay_In_Current_City_Years\"]=df1[\"Stay_In_Current_City_Years\"].replace({\"4+\":\"4\"})"
   ]
  },
  {
   "cell_type": "code",
   "execution_count": 11,
   "metadata": {},
   "outputs": [],
   "source": [
    "df2[\"Marital_Status\"]=df2[\"Marital_Status\"].astype(object)\n",
    "df2[\"Product_Category_1\"]=df2[\"Product_Category_1\"].astype(object)\n",
    "df2[\"Product_Category_2\"]=df2[\"Product_Category_2\"].astype(object)\n",
    "df2[\"Stay_In_Current_City_Years\"]=df2[\"Stay_In_Current_City_Years\"].replace({\"4+\":\"4\"})"
   ]
  },
  {
   "cell_type": "code",
   "execution_count": 12,
   "metadata": {},
   "outputs": [
    {
     "data": {
      "text/html": [
       "<div>\n",
       "<style scoped>\n",
       "    .dataframe tbody tr th:only-of-type {\n",
       "        vertical-align: middle;\n",
       "    }\n",
       "\n",
       "    .dataframe tbody tr th {\n",
       "        vertical-align: top;\n",
       "    }\n",
       "\n",
       "    .dataframe thead th {\n",
       "        text-align: right;\n",
       "    }\n",
       "</style>\n",
       "<table border=\"1\" class=\"dataframe\">\n",
       "  <thead>\n",
       "    <tr style=\"text-align: right;\">\n",
       "      <th></th>\n",
       "      <th>Gender</th>\n",
       "      <th>Age</th>\n",
       "      <th>Occupation</th>\n",
       "      <th>City_Category</th>\n",
       "      <th>Stay_In_Current_City_Years</th>\n",
       "      <th>Marital_Status</th>\n",
       "      <th>Product_Category_1</th>\n",
       "      <th>Product_Category_2</th>\n",
       "    </tr>\n",
       "  </thead>\n",
       "  <tbody>\n",
       "    <tr>\n",
       "      <th>0</th>\n",
       "      <td>F</td>\n",
       "      <td>0-17</td>\n",
       "      <td>10</td>\n",
       "      <td>A</td>\n",
       "      <td>2</td>\n",
       "      <td>0</td>\n",
       "      <td>3</td>\n",
       "      <td>-99</td>\n",
       "    </tr>\n",
       "    <tr>\n",
       "      <th>1</th>\n",
       "      <td>F</td>\n",
       "      <td>0-17</td>\n",
       "      <td>10</td>\n",
       "      <td>A</td>\n",
       "      <td>2</td>\n",
       "      <td>0</td>\n",
       "      <td>1</td>\n",
       "      <td>6</td>\n",
       "    </tr>\n",
       "    <tr>\n",
       "      <th>2</th>\n",
       "      <td>F</td>\n",
       "      <td>0-17</td>\n",
       "      <td>10</td>\n",
       "      <td>A</td>\n",
       "      <td>2</td>\n",
       "      <td>0</td>\n",
       "      <td>12</td>\n",
       "      <td>-99</td>\n",
       "    </tr>\n",
       "    <tr>\n",
       "      <th>3</th>\n",
       "      <td>F</td>\n",
       "      <td>0-17</td>\n",
       "      <td>10</td>\n",
       "      <td>A</td>\n",
       "      <td>2</td>\n",
       "      <td>0</td>\n",
       "      <td>12</td>\n",
       "      <td>14</td>\n",
       "    </tr>\n",
       "    <tr>\n",
       "      <th>4</th>\n",
       "      <td>M</td>\n",
       "      <td>55+</td>\n",
       "      <td>16</td>\n",
       "      <td>C</td>\n",
       "      <td>4</td>\n",
       "      <td>0</td>\n",
       "      <td>8</td>\n",
       "      <td>-99</td>\n",
       "    </tr>\n",
       "    <tr>\n",
       "      <th>...</th>\n",
       "      <td>...</td>\n",
       "      <td>...</td>\n",
       "      <td>...</td>\n",
       "      <td>...</td>\n",
       "      <td>...</td>\n",
       "      <td>...</td>\n",
       "      <td>...</td>\n",
       "      <td>...</td>\n",
       "    </tr>\n",
       "    <tr>\n",
       "      <th>550063</th>\n",
       "      <td>M</td>\n",
       "      <td>51-55</td>\n",
       "      <td>13</td>\n",
       "      <td>B</td>\n",
       "      <td>1</td>\n",
       "      <td>1</td>\n",
       "      <td>20</td>\n",
       "      <td>-99</td>\n",
       "    </tr>\n",
       "    <tr>\n",
       "      <th>550064</th>\n",
       "      <td>F</td>\n",
       "      <td>26-35</td>\n",
       "      <td>1</td>\n",
       "      <td>C</td>\n",
       "      <td>3</td>\n",
       "      <td>0</td>\n",
       "      <td>20</td>\n",
       "      <td>-99</td>\n",
       "    </tr>\n",
       "    <tr>\n",
       "      <th>550065</th>\n",
       "      <td>F</td>\n",
       "      <td>26-35</td>\n",
       "      <td>15</td>\n",
       "      <td>B</td>\n",
       "      <td>4</td>\n",
       "      <td>1</td>\n",
       "      <td>20</td>\n",
       "      <td>-99</td>\n",
       "    </tr>\n",
       "    <tr>\n",
       "      <th>550066</th>\n",
       "      <td>F</td>\n",
       "      <td>55+</td>\n",
       "      <td>1</td>\n",
       "      <td>C</td>\n",
       "      <td>2</td>\n",
       "      <td>0</td>\n",
       "      <td>20</td>\n",
       "      <td>-99</td>\n",
       "    </tr>\n",
       "    <tr>\n",
       "      <th>550067</th>\n",
       "      <td>F</td>\n",
       "      <td>46-50</td>\n",
       "      <td>0</td>\n",
       "      <td>B</td>\n",
       "      <td>4</td>\n",
       "      <td>1</td>\n",
       "      <td>20</td>\n",
       "      <td>-99</td>\n",
       "    </tr>\n",
       "  </tbody>\n",
       "</table>\n",
       "<p>550068 rows × 8 columns</p>\n",
       "</div>"
      ],
      "text/plain": [
       "       Gender    Age Occupation City_Category Stay_In_Current_City_Years  \\\n",
       "0           F   0-17         10             A                          2   \n",
       "1           F   0-17         10             A                          2   \n",
       "2           F   0-17         10             A                          2   \n",
       "3           F   0-17         10             A                          2   \n",
       "4           M    55+         16             C                          4   \n",
       "...       ...    ...        ...           ...                        ...   \n",
       "550063      M  51-55         13             B                          1   \n",
       "550064      F  26-35          1             C                          3   \n",
       "550065      F  26-35         15             B                          4   \n",
       "550066      F    55+          1             C                          2   \n",
       "550067      F  46-50          0             B                          4   \n",
       "\n",
       "       Marital_Status Product_Category_1 Product_Category_2  \n",
       "0                   0                  3                -99  \n",
       "1                   0                  1                  6  \n",
       "2                   0                 12                -99  \n",
       "3                   0                 12                 14  \n",
       "4                   0                  8                -99  \n",
       "...               ...                ...                ...  \n",
       "550063              1                 20                -99  \n",
       "550064              0                 20                -99  \n",
       "550065              1                 20                -99  \n",
       "550066              0                 20                -99  \n",
       "550067              1                 20                -99  \n",
       "\n",
       "[550068 rows x 8 columns]"
      ]
     },
     "execution_count": 12,
     "metadata": {},
     "output_type": "execute_result"
    }
   ],
   "source": [
    "catg_col_1 = df1.select_dtypes(include =['object'])\n",
    "catg_col_1"
   ]
  },
  {
   "cell_type": "code",
   "execution_count": 13,
   "metadata": {},
   "outputs": [
    {
     "data": {
      "text/html": [
       "<div>\n",
       "<style scoped>\n",
       "    .dataframe tbody tr th:only-of-type {\n",
       "        vertical-align: middle;\n",
       "    }\n",
       "\n",
       "    .dataframe tbody tr th {\n",
       "        vertical-align: top;\n",
       "    }\n",
       "\n",
       "    .dataframe thead th {\n",
       "        text-align: right;\n",
       "    }\n",
       "</style>\n",
       "<table border=\"1\" class=\"dataframe\">\n",
       "  <thead>\n",
       "    <tr style=\"text-align: right;\">\n",
       "      <th></th>\n",
       "      <th>Gender</th>\n",
       "      <th>Age</th>\n",
       "      <th>Occupation</th>\n",
       "      <th>City_Category</th>\n",
       "      <th>Stay_In_Current_City_Years</th>\n",
       "      <th>Marital_Status</th>\n",
       "      <th>Product_Category_1</th>\n",
       "      <th>Product_Category_2</th>\n",
       "    </tr>\n",
       "  </thead>\n",
       "  <tbody>\n",
       "    <tr>\n",
       "      <th>0</th>\n",
       "      <td>M</td>\n",
       "      <td>46-50</td>\n",
       "      <td>7</td>\n",
       "      <td>B</td>\n",
       "      <td>2</td>\n",
       "      <td>1</td>\n",
       "      <td>1</td>\n",
       "      <td>11</td>\n",
       "    </tr>\n",
       "    <tr>\n",
       "      <th>1</th>\n",
       "      <td>M</td>\n",
       "      <td>26-35</td>\n",
       "      <td>17</td>\n",
       "      <td>C</td>\n",
       "      <td>0</td>\n",
       "      <td>0</td>\n",
       "      <td>3</td>\n",
       "      <td>5</td>\n",
       "    </tr>\n",
       "    <tr>\n",
       "      <th>2</th>\n",
       "      <td>F</td>\n",
       "      <td>36-45</td>\n",
       "      <td>1</td>\n",
       "      <td>B</td>\n",
       "      <td>4</td>\n",
       "      <td>1</td>\n",
       "      <td>5</td>\n",
       "      <td>14</td>\n",
       "    </tr>\n",
       "    <tr>\n",
       "      <th>3</th>\n",
       "      <td>F</td>\n",
       "      <td>36-45</td>\n",
       "      <td>1</td>\n",
       "      <td>B</td>\n",
       "      <td>4</td>\n",
       "      <td>1</td>\n",
       "      <td>4</td>\n",
       "      <td>9</td>\n",
       "    </tr>\n",
       "    <tr>\n",
       "      <th>4</th>\n",
       "      <td>F</td>\n",
       "      <td>26-35</td>\n",
       "      <td>1</td>\n",
       "      <td>C</td>\n",
       "      <td>1</td>\n",
       "      <td>0</td>\n",
       "      <td>4</td>\n",
       "      <td>5</td>\n",
       "    </tr>\n",
       "    <tr>\n",
       "      <th>...</th>\n",
       "      <td>...</td>\n",
       "      <td>...</td>\n",
       "      <td>...</td>\n",
       "      <td>...</td>\n",
       "      <td>...</td>\n",
       "      <td>...</td>\n",
       "      <td>...</td>\n",
       "      <td>...</td>\n",
       "    </tr>\n",
       "    <tr>\n",
       "      <th>233594</th>\n",
       "      <td>F</td>\n",
       "      <td>26-35</td>\n",
       "      <td>15</td>\n",
       "      <td>B</td>\n",
       "      <td>4</td>\n",
       "      <td>1</td>\n",
       "      <td>8</td>\n",
       "      <td>-99</td>\n",
       "    </tr>\n",
       "    <tr>\n",
       "      <th>233595</th>\n",
       "      <td>F</td>\n",
       "      <td>26-35</td>\n",
       "      <td>15</td>\n",
       "      <td>B</td>\n",
       "      <td>4</td>\n",
       "      <td>1</td>\n",
       "      <td>5</td>\n",
       "      <td>8</td>\n",
       "    </tr>\n",
       "    <tr>\n",
       "      <th>233596</th>\n",
       "      <td>F</td>\n",
       "      <td>26-35</td>\n",
       "      <td>15</td>\n",
       "      <td>B</td>\n",
       "      <td>4</td>\n",
       "      <td>1</td>\n",
       "      <td>1</td>\n",
       "      <td>5</td>\n",
       "    </tr>\n",
       "    <tr>\n",
       "      <th>233597</th>\n",
       "      <td>F</td>\n",
       "      <td>46-50</td>\n",
       "      <td>1</td>\n",
       "      <td>C</td>\n",
       "      <td>4</td>\n",
       "      <td>0</td>\n",
       "      <td>10</td>\n",
       "      <td>16</td>\n",
       "    </tr>\n",
       "    <tr>\n",
       "      <th>233598</th>\n",
       "      <td>F</td>\n",
       "      <td>46-50</td>\n",
       "      <td>0</td>\n",
       "      <td>B</td>\n",
       "      <td>4</td>\n",
       "      <td>1</td>\n",
       "      <td>4</td>\n",
       "      <td>5</td>\n",
       "    </tr>\n",
       "  </tbody>\n",
       "</table>\n",
       "<p>233599 rows × 8 columns</p>\n",
       "</div>"
      ],
      "text/plain": [
       "       Gender    Age Occupation City_Category Stay_In_Current_City_Years  \\\n",
       "0           M  46-50          7             B                          2   \n",
       "1           M  26-35         17             C                          0   \n",
       "2           F  36-45          1             B                          4   \n",
       "3           F  36-45          1             B                          4   \n",
       "4           F  26-35          1             C                          1   \n",
       "...       ...    ...        ...           ...                        ...   \n",
       "233594      F  26-35         15             B                          4   \n",
       "233595      F  26-35         15             B                          4   \n",
       "233596      F  26-35         15             B                          4   \n",
       "233597      F  46-50          1             C                          4   \n",
       "233598      F  46-50          0             B                          4   \n",
       "\n",
       "       Marital_Status Product_Category_1 Product_Category_2  \n",
       "0                   1                  1                 11  \n",
       "1                   0                  3                  5  \n",
       "2                   1                  5                 14  \n",
       "3                   1                  4                  9  \n",
       "4                   0                  4                  5  \n",
       "...               ...                ...                ...  \n",
       "233594              1                  8                -99  \n",
       "233595              1                  5                  8  \n",
       "233596              1                  1                  5  \n",
       "233597              0                 10                 16  \n",
       "233598              1                  4                  5  \n",
       "\n",
       "[233599 rows x 8 columns]"
      ]
     },
     "execution_count": 13,
     "metadata": {},
     "output_type": "execute_result"
    }
   ],
   "source": [
    "catg_col_2 = df2.select_dtypes(include =['object'])\n",
    "catg_col_2"
   ]
  },
  {
   "cell_type": "code",
   "execution_count": 14,
   "metadata": {},
   "outputs": [
    {
     "data": {
      "text/html": [
       "<div>\n",
       "<style scoped>\n",
       "    .dataframe tbody tr th:only-of-type {\n",
       "        vertical-align: middle;\n",
       "    }\n",
       "\n",
       "    .dataframe tbody tr th {\n",
       "        vertical-align: top;\n",
       "    }\n",
       "\n",
       "    .dataframe thead th {\n",
       "        text-align: right;\n",
       "    }\n",
       "</style>\n",
       "<table border=\"1\" class=\"dataframe\">\n",
       "  <thead>\n",
       "    <tr style=\"text-align: right;\">\n",
       "      <th></th>\n",
       "      <th>Gender</th>\n",
       "      <th>Age</th>\n",
       "      <th>Occupation</th>\n",
       "      <th>City_Category</th>\n",
       "      <th>Stay_In_Current_City_Years</th>\n",
       "      <th>Marital_Status</th>\n",
       "      <th>Product_Category_1</th>\n",
       "      <th>Product_Category_2</th>\n",
       "      <th>Purchase</th>\n",
       "    </tr>\n",
       "  </thead>\n",
       "  <tbody>\n",
       "    <tr>\n",
       "      <th>0</th>\n",
       "      <td>F</td>\n",
       "      <td>0-17</td>\n",
       "      <td>10</td>\n",
       "      <td>A</td>\n",
       "      <td>2</td>\n",
       "      <td>0</td>\n",
       "      <td>3</td>\n",
       "      <td>-99</td>\n",
       "      <td>8370</td>\n",
       "    </tr>\n",
       "    <tr>\n",
       "      <th>1</th>\n",
       "      <td>F</td>\n",
       "      <td>0-17</td>\n",
       "      <td>10</td>\n",
       "      <td>A</td>\n",
       "      <td>2</td>\n",
       "      <td>0</td>\n",
       "      <td>1</td>\n",
       "      <td>6</td>\n",
       "      <td>15200</td>\n",
       "    </tr>\n",
       "    <tr>\n",
       "      <th>2</th>\n",
       "      <td>F</td>\n",
       "      <td>0-17</td>\n",
       "      <td>10</td>\n",
       "      <td>A</td>\n",
       "      <td>2</td>\n",
       "      <td>0</td>\n",
       "      <td>12</td>\n",
       "      <td>-99</td>\n",
       "      <td>1422</td>\n",
       "    </tr>\n",
       "    <tr>\n",
       "      <th>3</th>\n",
       "      <td>F</td>\n",
       "      <td>0-17</td>\n",
       "      <td>10</td>\n",
       "      <td>A</td>\n",
       "      <td>2</td>\n",
       "      <td>0</td>\n",
       "      <td>12</td>\n",
       "      <td>14</td>\n",
       "      <td>1057</td>\n",
       "    </tr>\n",
       "    <tr>\n",
       "      <th>4</th>\n",
       "      <td>M</td>\n",
       "      <td>55+</td>\n",
       "      <td>16</td>\n",
       "      <td>C</td>\n",
       "      <td>4</td>\n",
       "      <td>0</td>\n",
       "      <td>8</td>\n",
       "      <td>-99</td>\n",
       "      <td>7969</td>\n",
       "    </tr>\n",
       "  </tbody>\n",
       "</table>\n",
       "</div>"
      ],
      "text/plain": [
       "  Gender   Age Occupation City_Category Stay_In_Current_City_Years  \\\n",
       "0      F  0-17         10             A                          2   \n",
       "1      F  0-17         10             A                          2   \n",
       "2      F  0-17         10             A                          2   \n",
       "3      F  0-17         10             A                          2   \n",
       "4      M   55+         16             C                          4   \n",
       "\n",
       "  Marital_Status Product_Category_1 Product_Category_2  Purchase  \n",
       "0              0                  3                -99      8370  \n",
       "1              0                  1                  6     15200  \n",
       "2              0                 12                -99      1422  \n",
       "3              0                 12                 14      1057  \n",
       "4              0                  8                -99      7969  "
      ]
     },
     "execution_count": 14,
     "metadata": {},
     "output_type": "execute_result"
    }
   ],
   "source": [
    "df1.head()"
   ]
  },
  {
   "cell_type": "code",
   "execution_count": 15,
   "metadata": {},
   "outputs": [
    {
     "data": {
      "text/plain": [
       "(550068, 9)"
      ]
     },
     "execution_count": 15,
     "metadata": {},
     "output_type": "execute_result"
    }
   ],
   "source": [
    "df1.shape"
   ]
  },
  {
   "cell_type": "code",
   "execution_count": 16,
   "metadata": {},
   "outputs": [
    {
     "data": {
      "text/plain": [
       "(233599, 8)"
      ]
     },
     "execution_count": 16,
     "metadata": {},
     "output_type": "execute_result"
    }
   ],
   "source": [
    "df2.shape"
   ]
  },
  {
   "cell_type": "code",
   "execution_count": 17,
   "metadata": {},
   "outputs": [
    {
     "name": "stdout",
     "output_type": "stream",
     "text": [
      "<class 'pandas.core.frame.DataFrame'>\n",
      "RangeIndex: 550068 entries, 0 to 550067\n",
      "Data columns (total 9 columns):\n",
      " #   Column                      Non-Null Count   Dtype \n",
      "---  ------                      --------------   ----- \n",
      " 0   Gender                      550068 non-null  object\n",
      " 1   Age                         550068 non-null  object\n",
      " 2   Occupation                  550068 non-null  object\n",
      " 3   City_Category               550068 non-null  object\n",
      " 4   Stay_In_Current_City_Years  550068 non-null  object\n",
      " 5   Marital_Status              550068 non-null  object\n",
      " 6   Product_Category_1          550068 non-null  object\n",
      " 7   Product_Category_2          550068 non-null  object\n",
      " 8   Purchase                    550068 non-null  int64 \n",
      "dtypes: int64(1), object(8)\n",
      "memory usage: 37.8+ MB\n"
     ]
    }
   ],
   "source": [
    "df1.info()"
   ]
  },
  {
   "cell_type": "code",
   "execution_count": 18,
   "metadata": {},
   "outputs": [
    {
     "name": "stdout",
     "output_type": "stream",
     "text": [
      "<class 'pandas.core.frame.DataFrame'>\n",
      "RangeIndex: 233599 entries, 0 to 233598\n",
      "Data columns (total 8 columns):\n",
      " #   Column                      Non-Null Count   Dtype \n",
      "---  ------                      --------------   ----- \n",
      " 0   Gender                      233599 non-null  object\n",
      " 1   Age                         233599 non-null  object\n",
      " 2   Occupation                  233599 non-null  object\n",
      " 3   City_Category               233599 non-null  object\n",
      " 4   Stay_In_Current_City_Years  233599 non-null  object\n",
      " 5   Marital_Status              233599 non-null  object\n",
      " 6   Product_Category_1          233599 non-null  object\n",
      " 7   Product_Category_2          233599 non-null  object\n",
      "dtypes: object(8)\n",
      "memory usage: 14.3+ MB\n"
     ]
    }
   ],
   "source": [
    "df2.info()"
   ]
  },
  {
   "cell_type": "code",
   "execution_count": 19,
   "metadata": {},
   "outputs": [
    {
     "data": {
      "text/plain": [
       "4     72308\n",
       "0     69638\n",
       "7     59133\n",
       "1     47426\n",
       "17    40043\n",
       "20    33562\n",
       "12    31179\n",
       "14    27309\n",
       "2     26588\n",
       "16    25371\n",
       "6     20355\n",
       "3     17650\n",
       "10    12930\n",
       "5     12177\n",
       "15    12165\n",
       "11    11586\n",
       "19     8461\n",
       "13     7728\n",
       "18     6622\n",
       "9      6291\n",
       "8      1546\n",
       "Name: Occupation, dtype: int64"
      ]
     },
     "execution_count": 19,
     "metadata": {},
     "output_type": "execute_result"
    }
   ],
   "source": [
    "df1['Occupation'].value_counts()"
   ]
  },
  {
   "cell_type": "code",
   "execution_count": 20,
   "metadata": {},
   "outputs": [
    {
     "data": {
      "text/plain": [
       "Index(['Gender_M', 'Age_18-25', 'Age_26-35', 'Age_36-45', 'Age_46-50',\n",
       "       'Age_51-55', 'Age_55+', 'Occupation_1', 'Occupation_2', 'Occupation_3',\n",
       "       'Occupation_4', 'Occupation_5', 'Occupation_6', 'Occupation_7',\n",
       "       'Occupation_8', 'Occupation_9', 'Occupation_10', 'Occupation_11',\n",
       "       'Occupation_12', 'Occupation_13', 'Occupation_14', 'Occupation_15',\n",
       "       'Occupation_16', 'Occupation_17', 'Occupation_18', 'Occupation_19',\n",
       "       'Occupation_20', 'City_Category_B', 'City_Category_C',\n",
       "       'Stay_In_Current_City_Years_1', 'Stay_In_Current_City_Years_2',\n",
       "       'Stay_In_Current_City_Years_3', 'Stay_In_Current_City_Years_4',\n",
       "       'Marital_Status_1', 'Product_Category_1_2', 'Product_Category_1_3',\n",
       "       'Product_Category_1_4', 'Product_Category_1_5', 'Product_Category_1_6',\n",
       "       'Product_Category_1_7', 'Product_Category_1_8', 'Product_Category_1_9',\n",
       "       'Product_Category_1_10', 'Product_Category_1_11',\n",
       "       'Product_Category_1_12', 'Product_Category_1_13',\n",
       "       'Product_Category_1_14', 'Product_Category_1_15',\n",
       "       'Product_Category_1_16', 'Product_Category_1_17',\n",
       "       'Product_Category_1_18', 'Product_Category_1_19',\n",
       "       'Product_Category_1_20', 'Product_Category_2_2.0',\n",
       "       'Product_Category_2_3.0', 'Product_Category_2_4.0',\n",
       "       'Product_Category_2_5.0', 'Product_Category_2_6.0',\n",
       "       'Product_Category_2_7.0', 'Product_Category_2_8.0',\n",
       "       'Product_Category_2_9.0', 'Product_Category_2_10.0',\n",
       "       'Product_Category_2_11.0', 'Product_Category_2_12.0',\n",
       "       'Product_Category_2_13.0', 'Product_Category_2_14.0',\n",
       "       'Product_Category_2_15.0', 'Product_Category_2_16.0',\n",
       "       'Product_Category_2_17.0', 'Product_Category_2_18.0'],\n",
       "      dtype='object')"
      ]
     },
     "execution_count": 20,
     "metadata": {},
     "output_type": "execute_result"
    }
   ],
   "source": [
    "dum=pd.get_dummies(data=catg_col_1,drop_first=True)\n",
    "dum.columns"
   ]
  },
  {
   "cell_type": "code",
   "execution_count": 21,
   "metadata": {},
   "outputs": [
    {
     "data": {
      "text/plain": [
       "(550068, 70)"
      ]
     },
     "execution_count": 21,
     "metadata": {},
     "output_type": "execute_result"
    }
   ],
   "source": [
    "dum.shape"
   ]
  },
  {
   "cell_type": "code",
   "execution_count": 22,
   "metadata": {},
   "outputs": [
    {
     "data": {
      "text/plain": [
       "Index(['Gender_M', 'Age_18-25', 'Age_26-35', 'Age_36-45', 'Age_46-50',\n",
       "       'Age_51-55', 'Age_55+', 'Occupation_1', 'Occupation_2', 'Occupation_3',\n",
       "       'Occupation_4', 'Occupation_5', 'Occupation_6', 'Occupation_7',\n",
       "       'Occupation_8', 'Occupation_9', 'Occupation_10', 'Occupation_11',\n",
       "       'Occupation_12', 'Occupation_13', 'Occupation_14', 'Occupation_15',\n",
       "       'Occupation_16', 'Occupation_17', 'Occupation_18', 'Occupation_19',\n",
       "       'Occupation_20', 'City_Category_B', 'City_Category_C',\n",
       "       'Stay_In_Current_City_Years_1', 'Stay_In_Current_City_Years_2',\n",
       "       'Stay_In_Current_City_Years_3', 'Stay_In_Current_City_Years_4',\n",
       "       'Marital_Status_1', 'Product_Category_1_2', 'Product_Category_1_3',\n",
       "       'Product_Category_1_4', 'Product_Category_1_5', 'Product_Category_1_6',\n",
       "       'Product_Category_1_7', 'Product_Category_1_8', 'Product_Category_1_9',\n",
       "       'Product_Category_1_10', 'Product_Category_1_11',\n",
       "       'Product_Category_1_12', 'Product_Category_1_13',\n",
       "       'Product_Category_1_14', 'Product_Category_1_15',\n",
       "       'Product_Category_1_16', 'Product_Category_1_17',\n",
       "       'Product_Category_1_18', 'Product_Category_2_2.0',\n",
       "       'Product_Category_2_3.0', 'Product_Category_2_4.0',\n",
       "       'Product_Category_2_5.0', 'Product_Category_2_6.0',\n",
       "       'Product_Category_2_7.0', 'Product_Category_2_8.0',\n",
       "       'Product_Category_2_9.0', 'Product_Category_2_10.0',\n",
       "       'Product_Category_2_11.0', 'Product_Category_2_12.0',\n",
       "       'Product_Category_2_13.0', 'Product_Category_2_14.0',\n",
       "       'Product_Category_2_15.0', 'Product_Category_2_16.0',\n",
       "       'Product_Category_2_17.0', 'Product_Category_2_18.0'],\n",
       "      dtype='object')"
      ]
     },
     "execution_count": 22,
     "metadata": {},
     "output_type": "execute_result"
    }
   ],
   "source": [
    "dum2=pd.get_dummies(data=catg_col_2,drop_first=True)\n",
    "dum2.columns"
   ]
  },
  {
   "cell_type": "code",
   "execution_count": 23,
   "metadata": {},
   "outputs": [
    {
     "data": {
      "text/plain": [
       "(233599, 68)"
      ]
     },
     "execution_count": 23,
     "metadata": {},
     "output_type": "execute_result"
    }
   ],
   "source": [
    "dum2.shape"
   ]
  },
  {
   "cell_type": "code",
   "execution_count": 24,
   "metadata": {},
   "outputs": [
    {
     "data": {
      "text/plain": [
       "9        410\n",
       "17       578\n",
       "14      1523\n",
       "19      1603\n",
       "20      2550\n",
       "18      3125\n",
       "7       3721\n",
       "12      3947\n",
       "10      5125\n",
       "13      5549\n",
       "15      6290\n",
       "16      9828\n",
       "4      11753\n",
       "3      20213\n",
       "6      20466\n",
       "2      23864\n",
       "11     24287\n",
       "8     113925\n",
       "1     140378\n",
       "5     150933\n",
       "Name: Product_Category_1, dtype: int64"
      ]
     },
     "execution_count": 24,
     "metadata": {},
     "output_type": "execute_result"
    }
   ],
   "source": [
    "df1['Product_Category_1'].value_counts(ascending=True)"
   ]
  },
  {
   "cell_type": "code",
   "execution_count": 25,
   "metadata": {},
   "outputs": [
    {
     "data": {
      "text/plain": [
       "9       194\n",
       "17      223\n",
       "14      663\n",
       "18     1311\n",
       "7      1624\n",
       "12     1663\n",
       "10     2248\n",
       "13     2381\n",
       "15     2694\n",
       "16     4105\n",
       "4      5003\n",
       "3      8578\n",
       "6      8860\n",
       "11    10153\n",
       "2     10192\n",
       "8     48369\n",
       "1     60321\n",
       "5     65017\n",
       "Name: Product_Category_1, dtype: int64"
      ]
     },
     "execution_count": 25,
     "metadata": {},
     "output_type": "execute_result"
    }
   ],
   "source": [
    "df2['Product_Category_1'].value_counts(ascending=True)"
   ]
  },
  {
   "cell_type": "code",
   "execution_count": 26,
   "metadata": {},
   "outputs": [],
   "source": [
    "dum.drop('Product_Category_1_19',axis=1,inplace=True)"
   ]
  },
  {
   "cell_type": "code",
   "execution_count": 27,
   "metadata": {},
   "outputs": [],
   "source": [
    "dum.drop('Product_Category_1_20',axis=1,inplace=True)"
   ]
  },
  {
   "cell_type": "code",
   "execution_count": 28,
   "metadata": {},
   "outputs": [
    {
     "data": {
      "text/plain": [
       "(550068, 68)"
      ]
     },
     "execution_count": 28,
     "metadata": {},
     "output_type": "execute_result"
    }
   ],
   "source": [
    "dum.shape"
   ]
  },
  {
   "cell_type": "code",
   "execution_count": 29,
   "metadata": {},
   "outputs": [
    {
     "data": {
      "text/plain": [
       "(233599, 68)"
      ]
     },
     "execution_count": 29,
     "metadata": {},
     "output_type": "execute_result"
    }
   ],
   "source": [
    "dum2.shape"
   ]
  },
  {
   "cell_type": "markdown",
   "metadata": {},
   "source": [
    "# Model Building"
   ]
  },
  {
   "cell_type": "code",
   "execution_count": 30,
   "metadata": {},
   "outputs": [
    {
     "name": "stdout",
     "output_type": "stream",
     "text": [
      "Size of x train is (385047, 68)\n",
      "Size of y train is (385047,)\n",
      "Size of x test is (165021, 68)\n",
      "Size of y test is (165021,)\n"
     ]
    }
   ],
   "source": [
    "from sklearn.model_selection import train_test_split\n",
    "x=dum\n",
    "y=train[\"Purchase\"]\n",
    "x_train,x_test,y_train,y_test=train_test_split(x,y,train_size=0.7,random_state=0)   \n",
    "print(\"Size of x train is\",x_train.shape)\n",
    "print(\"Size of y train is\",y_train.shape)\n",
    "print(\"Size of x test is\",x_test.shape)\n",
    "print(\"Size of y test is\",y_test.shape)"
   ]
  },
  {
   "cell_type": "code",
   "execution_count": 31,
   "metadata": {},
   "outputs": [
    {
     "data": {
      "text/plain": [
       "LinearRegression(copy_X=True, fit_intercept=True, n_jobs=None, normalize=False)"
      ]
     },
     "execution_count": 31,
     "metadata": {},
     "output_type": "execute_result"
    }
   ],
   "source": [
    "from sklearn.linear_model import LinearRegression\n",
    "\n",
    "lin_reg = LinearRegression()\n",
    "lin_reg.fit(x, y)"
   ]
  },
  {
   "cell_type": "code",
   "execution_count": 32,
   "metadata": {},
   "outputs": [
    {
     "name": "stdout",
     "output_type": "stream",
     "text": [
      "Coefficients: [ 3.96553774e-01 -1.61822472e+02 -7.29701153e+01  3.89468728e+01\n",
      "  4.43248351e+01  2.79669496e+02  1.34994382e+02 -4.86196538e+01\n",
      "  2.98613009e+01  2.46703184e+02  1.46372113e+02  7.99834900e+01\n",
      "  1.96991704e+02  1.11249570e+02 -2.58886915e+02  8.95279649e+01\n",
      " -7.28093202e+01  7.93906197e+01  2.54890780e+02  6.45198963e+01\n",
      "  1.88500862e+02  3.61065350e+02  1.08904642e+02  1.78060246e+02\n",
      " -1.61005184e+01 -2.93873927e+02 -1.00541862e+02  1.38056936e+02\n",
      "  4.61908610e+02  1.91290951e+00  3.61435163e+01  6.98419213e+00\n",
      "  2.73825963e+01 -5.12791023e+01 -1.28807197e+03 -1.93918839e+03\n",
      " -1.05829958e+04 -6.46022970e+03  2.50741889e+03  4.06746649e+03\n",
      " -5.04379344e+03  2.55199851e+03  6.89328759e+03 -7.89404608e+03\n",
      " -1.11960295e+04 -1.21804433e+04  6.47294807e+02  2.05264585e+03\n",
      "  2.48083447e+03 -2.20735699e+03 -9.35834479e+03  1.31418680e+03\n",
      "  1.76863810e+02 -3.80172676e+02  5.68383852e+02  1.44051008e+03\n",
      "  1.07546717e+03  1.11013867e+03  3.15136138e+02  1.81703724e+03\n",
      "  3.18366429e+02  4.92042743e+01  2.67384954e+02  3.50311640e+02\n",
      "  6.74769392e+02  7.30439036e+02  9.74391888e+02  1.13570401e+03]\n",
      "Intercept: 12030.995203551498\n",
      "R^2 score: 0.5941349531569505\n"
     ]
    }
   ],
   "source": [
    "print(f'Coefficients: {lin_reg.coef_}')\n",
    "print(f'Intercept: {lin_reg.intercept_}')\n",
    "print(f'R^2 score: {lin_reg.score(x, y)}')"
   ]
  },
  {
   "cell_type": "code",
   "execution_count": 33,
   "metadata": {},
   "outputs": [
    {
     "name": "stdout",
     "output_type": "stream",
     "text": [
      "R^2 score for train: 0.5938546923816318\n",
      "R^2 score for test: 0.594732194246071\n"
     ]
    }
   ],
   "source": [
    "lin_reg = LinearRegression()\n",
    "model = lin_reg.fit(x_train,y_train)\n",
    "print(f'R^2 score for train: {lin_reg.score(x_train, y_train)}')\n",
    "print(f'R^2 score for test: {lin_reg.score(x_test, y_test)}')"
   ]
  },
  {
   "cell_type": "code",
   "execution_count": 34,
   "metadata": {},
   "outputs": [
    {
     "data": {
      "text/html": [
       "<table class=\"simpletable\">\n",
       "<caption>OLS Regression Results</caption>\n",
       "<tr>\n",
       "  <th>Dep. Variable:</th>        <td>Purchase</td>     <th>  R-squared:         </th>  <td>   0.594</td>  \n",
       "</tr>\n",
       "<tr>\n",
       "  <th>Model:</th>                   <td>OLS</td>       <th>  Adj. R-squared:    </th>  <td>   0.594</td>  \n",
       "</tr>\n",
       "<tr>\n",
       "  <th>Method:</th>             <td>Least Squares</td>  <th>  F-statistic:       </th>  <td>1.184e+04</td> \n",
       "</tr>\n",
       "<tr>\n",
       "  <th>Date:</th>             <td>Sat, 20 Jun 2020</td> <th>  Prob (F-statistic):</th>   <td>  0.00</td>   \n",
       "</tr>\n",
       "<tr>\n",
       "  <th>Time:</th>                 <td>11:54:42</td>     <th>  Log-Likelihood:    </th> <td>-5.2201e+06</td>\n",
       "</tr>\n",
       "<tr>\n",
       "  <th>No. Observations:</th>      <td>550068</td>      <th>  AIC:               </th>  <td>1.044e+07</td> \n",
       "</tr>\n",
       "<tr>\n",
       "  <th>Df Residuals:</th>          <td>549999</td>      <th>  BIC:               </th>  <td>1.044e+07</td> \n",
       "</tr>\n",
       "<tr>\n",
       "  <th>Df Model:</th>              <td>    68</td>      <th>                     </th>      <td> </td>     \n",
       "</tr>\n",
       "<tr>\n",
       "  <th>Covariance Type:</th>      <td>nonrobust</td>    <th>                     </th>      <td> </td>     \n",
       "</tr>\n",
       "</table>\n",
       "<table class=\"simpletable\">\n",
       "<tr>\n",
       "                <td></td>                  <th>coef</th>     <th>std err</th>      <th>t</th>      <th>P>|t|</th>  <th>[0.025</th>    <th>0.975]</th>  \n",
       "</tr>\n",
       "<tr>\n",
       "  <th>const</th>                        <td> 1.203e+04</td> <td>   47.789</td> <td>  251.753</td> <td> 0.000</td> <td> 1.19e+04</td> <td> 1.21e+04</td>\n",
       "</tr>\n",
       "<tr>\n",
       "  <th>Gender_M</th>                     <td>    0.3966</td> <td>   10.515</td> <td>    0.038</td> <td> 0.970</td> <td>  -20.212</td> <td>   21.005</td>\n",
       "</tr>\n",
       "<tr>\n",
       "  <th>Age_18-25</th>                    <td> -161.8225</td> <td>   43.368</td> <td>   -3.731</td> <td> 0.000</td> <td> -246.822</td> <td>  -76.823</td>\n",
       "</tr>\n",
       "<tr>\n",
       "  <th>Age_26-35</th>                    <td>  -72.9701</td> <td>   43.229</td> <td>   -1.688</td> <td> 0.091</td> <td> -157.697</td> <td>   11.756</td>\n",
       "</tr>\n",
       "<tr>\n",
       "  <th>Age_36-45</th>                    <td>   38.9469</td> <td>   43.845</td> <td>    0.888</td> <td> 0.374</td> <td>  -46.988</td> <td>  124.882</td>\n",
       "</tr>\n",
       "<tr>\n",
       "  <th>Age_46-50</th>                    <td>   44.3248</td> <td>   45.793</td> <td>    0.968</td> <td> 0.333</td> <td>  -45.428</td> <td>  134.077</td>\n",
       "</tr>\n",
       "<tr>\n",
       "  <th>Age_51-55</th>                    <td>  279.6695</td> <td>   46.323</td> <td>    6.037</td> <td> 0.000</td> <td>  188.878</td> <td>  370.461</td>\n",
       "</tr>\n",
       "<tr>\n",
       "  <th>Age_55+</th>                      <td>  134.9944</td> <td>   49.027</td> <td>    2.753</td> <td> 0.006</td> <td>   38.903</td> <td>  231.086</td>\n",
       "</tr>\n",
       "<tr>\n",
       "  <th>Occupation_1</th>                 <td>  -48.6197</td> <td>   19.236</td> <td>   -2.528</td> <td> 0.011</td> <td>  -86.321</td> <td>  -10.918</td>\n",
       "</tr>\n",
       "<tr>\n",
       "  <th>Occupation_2</th>                 <td>   29.8613</td> <td>   23.153</td> <td>    1.290</td> <td> 0.197</td> <td>  -15.517</td> <td>   75.240</td>\n",
       "</tr>\n",
       "<tr>\n",
       "  <th>Occupation_3</th>                 <td>  246.7032</td> <td>   27.108</td> <td>    9.101</td> <td> 0.000</td> <td>  193.573</td> <td>  299.833</td>\n",
       "</tr>\n",
       "<tr>\n",
       "  <th>Occupation_4</th>                 <td>  146.3721</td> <td>   18.445</td> <td>    7.936</td> <td> 0.000</td> <td>  110.220</td> <td>  182.524</td>\n",
       "</tr>\n",
       "<tr>\n",
       "  <th>Occupation_5</th>                 <td>   79.9835</td> <td>   31.545</td> <td>    2.536</td> <td> 0.011</td> <td>   18.156</td> <td>  141.811</td>\n",
       "</tr>\n",
       "<tr>\n",
       "  <th>Occupation_6</th>                 <td>  196.9917</td> <td>   25.783</td> <td>    7.640</td> <td> 0.000</td> <td>  146.457</td> <td>  247.526</td>\n",
       "</tr>\n",
       "<tr>\n",
       "  <th>Occupation_7</th>                 <td>  111.2496</td> <td>   18.104</td> <td>    6.145</td> <td> 0.000</td> <td>   75.766</td> <td>  146.733</td>\n",
       "</tr>\n",
       "<tr>\n",
       "  <th>Occupation_8</th>                 <td> -258.8869</td> <td>   82.589</td> <td>   -3.135</td> <td> 0.002</td> <td> -420.760</td> <td>  -97.014</td>\n",
       "</tr>\n",
       "<tr>\n",
       "  <th>Occupation_9</th>                 <td>   89.5280</td> <td>   42.917</td> <td>    2.086</td> <td> 0.037</td> <td>    5.412</td> <td>  173.644</td>\n",
       "</tr>\n",
       "<tr>\n",
       "  <th>Occupation_10</th>                <td>  -72.8093</td> <td>   46.489</td> <td>   -1.566</td> <td> 0.117</td> <td> -163.925</td> <td>   18.307</td>\n",
       "</tr>\n",
       "<tr>\n",
       "  <th>Occupation_11</th>                <td>   79.3906</td> <td>   32.249</td> <td>    2.462</td> <td> 0.014</td> <td>   16.183</td> <td>  142.598</td>\n",
       "</tr>\n",
       "<tr>\n",
       "  <th>Occupation_12</th>                <td>  254.8908</td> <td>   21.922</td> <td>   11.627</td> <td> 0.000</td> <td>  211.924</td> <td>  297.857</td>\n",
       "</tr>\n",
       "<tr>\n",
       "  <th>Occupation_13</th>                <td>   64.5199</td> <td>   41.459</td> <td>    1.556</td> <td> 0.120</td> <td>  -16.738</td> <td>  145.778</td>\n",
       "</tr>\n",
       "<tr>\n",
       "  <th>Occupation_14</th>                <td>  188.5009</td> <td>   22.915</td> <td>    8.226</td> <td> 0.000</td> <td>  143.589</td> <td>  233.413</td>\n",
       "</tr>\n",
       "<tr>\n",
       "  <th>Occupation_15</th>                <td>  361.0653</td> <td>   31.515</td> <td>   11.457</td> <td> 0.000</td> <td>  299.298</td> <td>  422.833</td>\n",
       "</tr>\n",
       "<tr>\n",
       "  <th>Occupation_16</th>                <td>  108.9046</td> <td>   23.730</td> <td>    4.589</td> <td> 0.000</td> <td>   62.395</td> <td>  155.414</td>\n",
       "</tr>\n",
       "<tr>\n",
       "  <th>Occupation_17</th>                <td>  178.0602</td> <td>   20.281</td> <td>    8.780</td> <td> 0.000</td> <td>  138.310</td> <td>  217.811</td>\n",
       "</tr>\n",
       "<tr>\n",
       "  <th>Occupation_18</th>                <td>  -16.1005</td> <td>   41.351</td> <td>   -0.389</td> <td> 0.697</td> <td>  -97.147</td> <td>   64.946</td>\n",
       "</tr>\n",
       "<tr>\n",
       "  <th>Occupation_19</th>                <td> -293.8739</td> <td>   37.095</td> <td>   -7.922</td> <td> 0.000</td> <td> -366.578</td> <td> -221.170</td>\n",
       "</tr>\n",
       "<tr>\n",
       "  <th>Occupation_20</th>                <td> -100.5419</td> <td>   21.392</td> <td>   -4.700</td> <td> 0.000</td> <td> -142.470</td> <td>  -58.614</td>\n",
       "</tr>\n",
       "<tr>\n",
       "  <th>City_Category_B</th>              <td>  138.0569</td> <td>   10.791</td> <td>   12.793</td> <td> 0.000</td> <td>  116.906</td> <td>  159.208</td>\n",
       "</tr>\n",
       "<tr>\n",
       "  <th>City_Category_C</th>              <td>  461.9086</td> <td>   11.695</td> <td>   39.498</td> <td> 0.000</td> <td>  438.988</td> <td>  484.829</td>\n",
       "</tr>\n",
       "<tr>\n",
       "  <th>Stay_In_Current_City_Years_1</th> <td>    1.9129</td> <td>   13.884</td> <td>    0.138</td> <td> 0.890</td> <td>  -25.298</td> <td>   29.124</td>\n",
       "</tr>\n",
       "<tr>\n",
       "  <th>Stay_In_Current_City_Years_2</th> <td>   36.1435</td> <td>   15.490</td> <td>    2.333</td> <td> 0.020</td> <td>    5.784</td> <td>   66.503</td>\n",
       "</tr>\n",
       "<tr>\n",
       "  <th>Stay_In_Current_City_Years_3</th> <td>    6.9842</td> <td>   15.762</td> <td>    0.443</td> <td> 0.658</td> <td>  -23.909</td> <td>   37.878</td>\n",
       "</tr>\n",
       "<tr>\n",
       "  <th>Stay_In_Current_City_Years_4</th> <td>   27.3826</td> <td>   16.153</td> <td>    1.695</td> <td> 0.090</td> <td>   -4.277</td> <td>   59.042</td>\n",
       "</tr>\n",
       "<tr>\n",
       "  <th>Marital_Status_1</th>             <td>  -51.2791</td> <td>    9.383</td> <td>   -5.465</td> <td> 0.000</td> <td>  -69.670</td> <td>  -32.889</td>\n",
       "</tr>\n",
       "<tr>\n",
       "  <th>Product_Category_1_2</th>         <td>-1288.0720</td> <td>   28.859</td> <td>  -44.633</td> <td> 0.000</td> <td>-1344.635</td> <td>-1231.509</td>\n",
       "</tr>\n",
       "<tr>\n",
       "  <th>Product_Category_1_3</th>         <td>-1939.1884</td> <td>   39.339</td> <td>  -49.294</td> <td> 0.000</td> <td>-2016.292</td> <td>-1862.085</td>\n",
       "</tr>\n",
       "<tr>\n",
       "  <th>Product_Category_1_4</th>         <td>-1.058e+04</td> <td>   35.236</td> <td> -300.348</td> <td> 0.000</td> <td>-1.07e+04</td> <td>-1.05e+04</td>\n",
       "</tr>\n",
       "<tr>\n",
       "  <th>Product_Category_1_5</th>         <td>-6460.2297</td> <td>   14.957</td> <td> -431.931</td> <td> 0.000</td> <td>-6489.544</td> <td>-6430.915</td>\n",
       "</tr>\n",
       "<tr>\n",
       "  <th>Product_Category_1_6</th>         <td> 2507.4189</td> <td>   27.369</td> <td>   91.614</td> <td> 0.000</td> <td> 2453.776</td> <td> 2561.062</td>\n",
       "</tr>\n",
       "<tr>\n",
       "  <th>Product_Category_1_7</th>         <td> 4067.4665</td> <td>   54.537</td> <td>   74.582</td> <td> 0.000</td> <td> 3960.576</td> <td> 4174.357</td>\n",
       "</tr>\n",
       "<tr>\n",
       "  <th>Product_Category_1_8</th>         <td>-5043.7934</td> <td>   16.361</td> <td> -308.281</td> <td> 0.000</td> <td>-5075.860</td> <td>-5011.726</td>\n",
       "</tr>\n",
       "<tr>\n",
       "  <th>Product_Category_1_9</th>         <td> 2551.9985</td> <td>  159.074</td> <td>   16.043</td> <td> 0.000</td> <td> 2240.218</td> <td> 2863.779</td>\n",
       "</tr>\n",
       "<tr>\n",
       "  <th>Product_Category_1_10</th>        <td> 6893.2876</td> <td>   47.741</td> <td>  144.390</td> <td> 0.000</td> <td> 6799.717</td> <td> 6986.858</td>\n",
       "</tr>\n",
       "<tr>\n",
       "  <th>Product_Category_1_11</th>        <td>-7894.0461</td> <td>   24.011</td> <td> -328.768</td> <td> 0.000</td> <td>-7941.107</td> <td>-7846.985</td>\n",
       "</tr>\n",
       "<tr>\n",
       "  <th>Product_Category_1_12</th>        <td> -1.12e+04</td> <td>   53.141</td> <td> -210.684</td> <td> 0.000</td> <td>-1.13e+04</td> <td>-1.11e+04</td>\n",
       "</tr>\n",
       "<tr>\n",
       "  <th>Product_Category_1_13</th>        <td>-1.218e+04</td> <td>   45.273</td> <td> -269.047</td> <td> 0.000</td> <td>-1.23e+04</td> <td>-1.21e+04</td>\n",
       "</tr>\n",
       "<tr>\n",
       "  <th>Product_Category_1_14</th>        <td>  647.2948</td> <td>   83.182</td> <td>    7.782</td> <td> 0.000</td> <td>  484.261</td> <td>  810.329</td>\n",
       "</tr>\n",
       "<tr>\n",
       "  <th>Product_Category_1_15</th>        <td> 2052.6459</td> <td>   42.643</td> <td>   48.136</td> <td> 0.000</td> <td> 1969.068</td> <td> 2136.224</td>\n",
       "</tr>\n",
       "<tr>\n",
       "  <th>Product_Category_1_16</th>        <td> 2480.8345</td> <td>   35.658</td> <td>   69.574</td> <td> 0.000</td> <td> 2410.947</td> <td> 2550.722</td>\n",
       "</tr>\n",
       "<tr>\n",
       "  <th>Product_Category_1_17</th>        <td>-2207.3570</td> <td>  134.025</td> <td>  -16.470</td> <td> 0.000</td> <td>-2470.042</td> <td>-1944.672</td>\n",
       "</tr>\n",
       "<tr>\n",
       "  <th>Product_Category_1_18</th>        <td>-9358.3448</td> <td>   59.252</td> <td> -157.942</td> <td> 0.000</td> <td>-9474.476</td> <td>-9242.213</td>\n",
       "</tr>\n",
       "<tr>\n",
       "  <th>Product_Category_2_2.0</th>       <td> 1314.1868</td> <td>   20.900</td> <td>   62.880</td> <td> 0.000</td> <td> 1273.224</td> <td> 1355.150</td>\n",
       "</tr>\n",
       "<tr>\n",
       "  <th>Product_Category_2_3.0</th>       <td>  176.8638</td> <td>   66.043</td> <td>    2.678</td> <td> 0.007</td> <td>   47.422</td> <td>  306.305</td>\n",
       "</tr>\n",
       "<tr>\n",
       "  <th>Product_Category_2_4.0</th>       <td> -380.1727</td> <td>   37.945</td> <td>  -10.019</td> <td> 0.000</td> <td> -454.544</td> <td> -305.801</td>\n",
       "</tr>\n",
       "<tr>\n",
       "  <th>Product_Category_2_5.0</th>       <td>  568.3839</td> <td>   27.337</td> <td>   20.792</td> <td> 0.000</td> <td>  514.804</td> <td>  621.964</td>\n",
       "</tr>\n",
       "<tr>\n",
       "  <th>Product_Category_2_6.0</th>       <td> 1440.5101</td> <td>   27.562</td> <td>   52.264</td> <td> 0.000</td> <td> 1386.489</td> <td> 1494.531</td>\n",
       "</tr>\n",
       "<tr>\n",
       "  <th>Product_Category_2_7.0</th>       <td> 1075.4672</td> <td>  128.356</td> <td>    8.379</td> <td> 0.000</td> <td>  823.894</td> <td> 1327.040</td>\n",
       "</tr>\n",
       "<tr>\n",
       "  <th>Product_Category_2_8.0</th>       <td> 1110.1387</td> <td>   16.812</td> <td>   66.034</td> <td> 0.000</td> <td> 1077.189</td> <td> 1143.089</td>\n",
       "</tr>\n",
       "<tr>\n",
       "  <th>Product_Category_2_9.0</th>       <td>  315.1361</td> <td>   44.184</td> <td>    7.132</td> <td> 0.000</td> <td>  228.536</td> <td>  401.736</td>\n",
       "</tr>\n",
       "<tr>\n",
       "  <th>Product_Category_2_10.0</th>      <td> 1817.0372</td> <td>   62.751</td> <td>   28.956</td> <td> 0.000</td> <td> 1694.048</td> <td> 1940.027</td>\n",
       "</tr>\n",
       "<tr>\n",
       "  <th>Product_Category_2_11.0</th>      <td>  318.3664</td> <td>   28.590</td> <td>   11.136</td> <td> 0.000</td> <td>  262.331</td> <td>  374.402</td>\n",
       "</tr>\n",
       "<tr>\n",
       "  <th>Product_Category_2_12.0</th>      <td>   49.2043</td> <td>   44.125</td> <td>    1.115</td> <td> 0.265</td> <td>  -37.279</td> <td>  135.688</td>\n",
       "</tr>\n",
       "<tr>\n",
       "  <th>Product_Category_2_13.0</th>      <td>  267.3850</td> <td>   33.394</td> <td>    8.007</td> <td> 0.000</td> <td>  201.933</td> <td>  332.837</td>\n",
       "</tr>\n",
       "<tr>\n",
       "  <th>Product_Category_2_14.0</th>      <td>  350.3116</td> <td>   16.018</td> <td>   21.869</td> <td> 0.000</td> <td>  318.916</td> <td>  381.707</td>\n",
       "</tr>\n",
       "<tr>\n",
       "  <th>Product_Category_2_15.0</th>      <td>  674.7694</td> <td>   19.772</td> <td>   34.127</td> <td> 0.000</td> <td>  636.017</td> <td>  713.522</td>\n",
       "</tr>\n",
       "<tr>\n",
       "  <th>Product_Category_2_16.0</th>      <td>  730.4390</td> <td>   18.839</td> <td>   38.772</td> <td> 0.000</td> <td>  693.514</td> <td>  767.364</td>\n",
       "</tr>\n",
       "<tr>\n",
       "  <th>Product_Category_2_17.0</th>      <td>  974.3919</td> <td>   29.222</td> <td>   33.345</td> <td> 0.000</td> <td>  917.118</td> <td> 1031.666</td>\n",
       "</tr>\n",
       "<tr>\n",
       "  <th>Product_Category_2_18.0</th>      <td> 1135.7040</td> <td>   61.523</td> <td>   18.460</td> <td> 0.000</td> <td> 1015.121</td> <td> 1256.287</td>\n",
       "</tr>\n",
       "</table>\n",
       "<table class=\"simpletable\">\n",
       "<tr>\n",
       "  <th>Omnibus:</th>       <td>66281.716</td> <th>  Durbin-Watson:     </th>  <td>   1.507</td> \n",
       "</tr>\n",
       "<tr>\n",
       "  <th>Prob(Omnibus):</th>  <td> 0.000</td>   <th>  Jarque-Bera (JB):  </th> <td>127938.326</td>\n",
       "</tr>\n",
       "<tr>\n",
       "  <th>Skew:</th>           <td>-0.780</td>   <th>  Prob(JB):          </th>  <td>    0.00</td> \n",
       "</tr>\n",
       "<tr>\n",
       "  <th>Kurtosis:</th>       <td> 4.774</td>   <th>  Cond. No.          </th>  <td>    61.5</td> \n",
       "</tr>\n",
       "</table><br/><br/>Warnings:<br/>[1] Standard Errors assume that the covariance matrix of the errors is correctly specified."
      ],
      "text/plain": [
       "<class 'statsmodels.iolib.summary.Summary'>\n",
       "\"\"\"\n",
       "                            OLS Regression Results                            \n",
       "==============================================================================\n",
       "Dep. Variable:               Purchase   R-squared:                       0.594\n",
       "Model:                            OLS   Adj. R-squared:                  0.594\n",
       "Method:                 Least Squares   F-statistic:                 1.184e+04\n",
       "Date:                Sat, 20 Jun 2020   Prob (F-statistic):               0.00\n",
       "Time:                        11:54:42   Log-Likelihood:            -5.2201e+06\n",
       "No. Observations:              550068   AIC:                         1.044e+07\n",
       "Df Residuals:                  549999   BIC:                         1.044e+07\n",
       "Df Model:                          68                                         \n",
       "Covariance Type:            nonrobust                                         \n",
       "================================================================================================\n",
       "                                   coef    std err          t      P>|t|      [0.025      0.975]\n",
       "------------------------------------------------------------------------------------------------\n",
       "const                         1.203e+04     47.789    251.753      0.000    1.19e+04    1.21e+04\n",
       "Gender_M                         0.3966     10.515      0.038      0.970     -20.212      21.005\n",
       "Age_18-25                     -161.8225     43.368     -3.731      0.000    -246.822     -76.823\n",
       "Age_26-35                      -72.9701     43.229     -1.688      0.091    -157.697      11.756\n",
       "Age_36-45                       38.9469     43.845      0.888      0.374     -46.988     124.882\n",
       "Age_46-50                       44.3248     45.793      0.968      0.333     -45.428     134.077\n",
       "Age_51-55                      279.6695     46.323      6.037      0.000     188.878     370.461\n",
       "Age_55+                        134.9944     49.027      2.753      0.006      38.903     231.086\n",
       "Occupation_1                   -48.6197     19.236     -2.528      0.011     -86.321     -10.918\n",
       "Occupation_2                    29.8613     23.153      1.290      0.197     -15.517      75.240\n",
       "Occupation_3                   246.7032     27.108      9.101      0.000     193.573     299.833\n",
       "Occupation_4                   146.3721     18.445      7.936      0.000     110.220     182.524\n",
       "Occupation_5                    79.9835     31.545      2.536      0.011      18.156     141.811\n",
       "Occupation_6                   196.9917     25.783      7.640      0.000     146.457     247.526\n",
       "Occupation_7                   111.2496     18.104      6.145      0.000      75.766     146.733\n",
       "Occupation_8                  -258.8869     82.589     -3.135      0.002    -420.760     -97.014\n",
       "Occupation_9                    89.5280     42.917      2.086      0.037       5.412     173.644\n",
       "Occupation_10                  -72.8093     46.489     -1.566      0.117    -163.925      18.307\n",
       "Occupation_11                   79.3906     32.249      2.462      0.014      16.183     142.598\n",
       "Occupation_12                  254.8908     21.922     11.627      0.000     211.924     297.857\n",
       "Occupation_13                   64.5199     41.459      1.556      0.120     -16.738     145.778\n",
       "Occupation_14                  188.5009     22.915      8.226      0.000     143.589     233.413\n",
       "Occupation_15                  361.0653     31.515     11.457      0.000     299.298     422.833\n",
       "Occupation_16                  108.9046     23.730      4.589      0.000      62.395     155.414\n",
       "Occupation_17                  178.0602     20.281      8.780      0.000     138.310     217.811\n",
       "Occupation_18                  -16.1005     41.351     -0.389      0.697     -97.147      64.946\n",
       "Occupation_19                 -293.8739     37.095     -7.922      0.000    -366.578    -221.170\n",
       "Occupation_20                 -100.5419     21.392     -4.700      0.000    -142.470     -58.614\n",
       "City_Category_B                138.0569     10.791     12.793      0.000     116.906     159.208\n",
       "City_Category_C                461.9086     11.695     39.498      0.000     438.988     484.829\n",
       "Stay_In_Current_City_Years_1     1.9129     13.884      0.138      0.890     -25.298      29.124\n",
       "Stay_In_Current_City_Years_2    36.1435     15.490      2.333      0.020       5.784      66.503\n",
       "Stay_In_Current_City_Years_3     6.9842     15.762      0.443      0.658     -23.909      37.878\n",
       "Stay_In_Current_City_Years_4    27.3826     16.153      1.695      0.090      -4.277      59.042\n",
       "Marital_Status_1               -51.2791      9.383     -5.465      0.000     -69.670     -32.889\n",
       "Product_Category_1_2         -1288.0720     28.859    -44.633      0.000   -1344.635   -1231.509\n",
       "Product_Category_1_3         -1939.1884     39.339    -49.294      0.000   -2016.292   -1862.085\n",
       "Product_Category_1_4         -1.058e+04     35.236   -300.348      0.000   -1.07e+04   -1.05e+04\n",
       "Product_Category_1_5         -6460.2297     14.957   -431.931      0.000   -6489.544   -6430.915\n",
       "Product_Category_1_6          2507.4189     27.369     91.614      0.000    2453.776    2561.062\n",
       "Product_Category_1_7          4067.4665     54.537     74.582      0.000    3960.576    4174.357\n",
       "Product_Category_1_8         -5043.7934     16.361   -308.281      0.000   -5075.860   -5011.726\n",
       "Product_Category_1_9          2551.9985    159.074     16.043      0.000    2240.218    2863.779\n",
       "Product_Category_1_10         6893.2876     47.741    144.390      0.000    6799.717    6986.858\n",
       "Product_Category_1_11        -7894.0461     24.011   -328.768      0.000   -7941.107   -7846.985\n",
       "Product_Category_1_12         -1.12e+04     53.141   -210.684      0.000   -1.13e+04   -1.11e+04\n",
       "Product_Category_1_13        -1.218e+04     45.273   -269.047      0.000   -1.23e+04   -1.21e+04\n",
       "Product_Category_1_14          647.2948     83.182      7.782      0.000     484.261     810.329\n",
       "Product_Category_1_15         2052.6459     42.643     48.136      0.000    1969.068    2136.224\n",
       "Product_Category_1_16         2480.8345     35.658     69.574      0.000    2410.947    2550.722\n",
       "Product_Category_1_17        -2207.3570    134.025    -16.470      0.000   -2470.042   -1944.672\n",
       "Product_Category_1_18        -9358.3448     59.252   -157.942      0.000   -9474.476   -9242.213\n",
       "Product_Category_2_2.0        1314.1868     20.900     62.880      0.000    1273.224    1355.150\n",
       "Product_Category_2_3.0         176.8638     66.043      2.678      0.007      47.422     306.305\n",
       "Product_Category_2_4.0        -380.1727     37.945    -10.019      0.000    -454.544    -305.801\n",
       "Product_Category_2_5.0         568.3839     27.337     20.792      0.000     514.804     621.964\n",
       "Product_Category_2_6.0        1440.5101     27.562     52.264      0.000    1386.489    1494.531\n",
       "Product_Category_2_7.0        1075.4672    128.356      8.379      0.000     823.894    1327.040\n",
       "Product_Category_2_8.0        1110.1387     16.812     66.034      0.000    1077.189    1143.089\n",
       "Product_Category_2_9.0         315.1361     44.184      7.132      0.000     228.536     401.736\n",
       "Product_Category_2_10.0       1817.0372     62.751     28.956      0.000    1694.048    1940.027\n",
       "Product_Category_2_11.0        318.3664     28.590     11.136      0.000     262.331     374.402\n",
       "Product_Category_2_12.0         49.2043     44.125      1.115      0.265     -37.279     135.688\n",
       "Product_Category_2_13.0        267.3850     33.394      8.007      0.000     201.933     332.837\n",
       "Product_Category_2_14.0        350.3116     16.018     21.869      0.000     318.916     381.707\n",
       "Product_Category_2_15.0        674.7694     19.772     34.127      0.000     636.017     713.522\n",
       "Product_Category_2_16.0        730.4390     18.839     38.772      0.000     693.514     767.364\n",
       "Product_Category_2_17.0        974.3919     29.222     33.345      0.000     917.118    1031.666\n",
       "Product_Category_2_18.0       1135.7040     61.523     18.460      0.000    1015.121    1256.287\n",
       "==============================================================================\n",
       "Omnibus:                    66281.716   Durbin-Watson:                   1.507\n",
       "Prob(Omnibus):                  0.000   Jarque-Bera (JB):           127938.326\n",
       "Skew:                          -0.780   Prob(JB):                         0.00\n",
       "Kurtosis:                       4.774   Cond. No.                         61.5\n",
       "==============================================================================\n",
       "\n",
       "Warnings:\n",
       "[1] Standard Errors assume that the covariance matrix of the errors is correctly specified.\n",
       "\"\"\""
      ]
     },
     "execution_count": 34,
     "metadata": {},
     "output_type": "execute_result"
    }
   ],
   "source": [
    "import warnings \n",
    "warnings.filterwarnings('ignore')\n",
    "import statsmodels.api as sm\n",
    "\n",
    "X_constant = sm.add_constant(x)\n",
    "lin_reg = sm.OLS(y,X_constant).fit()\n",
    "lin_reg.summary()"
   ]
  },
  {
   "cell_type": "markdown",
   "metadata": {},
   "source": [
    "#### Assumption 1- No auto correlation"
   ]
  },
  {
   "cell_type": "raw",
   "metadata": {},
   "source": [
    "For Linear Regression, we need to prove 5 major assumptions.\n",
    "1) No Auto correlation. \n",
    "Test needed : Durbin- Watson Test.\n",
    "    It's value ranges from 0-4. If the value of Durbin- Watson is Between 0-2, it's known as Positive Autocorrelation.\n",
    "    If the value ranges from 2-4, it is known as Negative autocorrelation.\n",
    "    If the value is exactly 2, it means No Autocorrelation.\n",
    "For a good linear model, it should have low or no autocorrelation.\n",
    "\n",
    "we can see here the values of dublin watson test (test for normality): 1.507 \n",
    "    \n",
    "From the graph below, we can easily see that there is somewhat positive autocorrelation."
   ]
  },
  {
   "cell_type": "code",
   "execution_count": 35,
   "metadata": {},
   "outputs": [
    {
     "data": {
      "image/png": "[encoded data removed]",
      "text/plain": [
       "<Figure size 432x288 with 1 Axes>"
      ]
     },
     "metadata": {
      "needs_background": "light"
     },
     "output_type": "display_data"
    }
   ],
   "source": [
    "import statsmodels.tsa.api as smt\n",
    "\n",
    "acf = smt.graphics.plot_acf(lin_reg.resid, lags=40 , alpha=0.05)\n",
    "acf.show()"
   ]
  },
  {
   "cell_type": "markdown",
   "metadata": {},
   "source": [
    "##### Assumption 2- Normality of Residuals"
   ]
  },
  {
   "cell_type": "raw",
   "metadata": {},
   "source": [
    "2) The second assumption is the Normality of Residuals. \n",
    "For this we prefer the Jarque Bera test. For a good model, the residuals should be normally distributed.\n",
    "The higher the value of Jarque Bera test , the lesser the residuals are normally distributed.\n",
    "We generally prefer a lower value of jarque bera test.\n",
    "\n",
    "The Jarque–Bera test is a goodness-of-fit test of whether sample data \n",
    "have the skewness and kurtosis matching a normal distribution.\n",
    "And jarque-bera test (test for normality) : 127938\n",
    "    \n",
    "The jarque bera test tests whether the sample data has the skewness and kurtosis matching a normal distribution.\n",
    "Note that this test generally works good for large enough number of data samples(>2000) as the test statistics asymptotically has a chi squared distribution with degrees 2 of freedom."
   ]
  },
  {
   "cell_type": "code",
   "execution_count": 37,
   "metadata": {},
   "outputs": [
    {
     "name": "stdout",
     "output_type": "stream",
     "text": [
      "(127938.32631552873, 0.0)\n"
     ]
    }
   ],
   "source": [
    "from scipy import stats\n",
    "print(stats.jarque_bera(lin_reg.resid))"
   ]
  },
  {
   "cell_type": "raw",
   "metadata": {},
   "source": [
    "The critical chi square value at the 5% level of significance is 5.99. If the computed value exceeds this value the null hypothesis is rejected.\n",
    "\n",
    "In this case the computed value of the JB statistic 127938.33 is greater than 5.99. Thus we reject the null hypothesis that the error terms are normally distributed."
   ]
  },
  {
   "cell_type": "code",
   "execution_count": 38,
   "metadata": {},
   "outputs": [
    {
     "data": {
      "text/plain": [
       "<matplotlib.axes._subplots.AxesSubplot at 0x2895b7880c8>"
      ]
     },
     "execution_count": 38,
     "metadata": {},
     "output_type": "execute_result"
    },
    {
     "data": {
      "image/png": "[encoded data removed]",
      "text/plain": [
       "<Figure size 432x288 with 1 Axes>"
      ]
     },
     "metadata": {
      "needs_background": "light"
     },
     "output_type": "display_data"
    }
   ],
   "source": [
    "import seaborn as sns\n",
    "sns.distplot(lin_reg.resid)"
   ]
  },
  {
   "cell_type": "markdown",
   "metadata": {},
   "source": [
    "### Rainbow test "
   ]
  },
  {
   "cell_type": "raw",
   "metadata": {},
   "source": [
    "It is done to check the linearity of the residuals for a linear regression model.\n",
    "Linearity of residuals is preferred."
   ]
  },
  {
   "cell_type": "code",
   "execution_count": 40,
   "metadata": {},
   "outputs": [
    {
     "data": {
      "text/plain": [
       "(1.268937844143968, 0.0)"
      ]
     },
     "execution_count": 40,
     "metadata": {},
     "output_type": "execute_result"
    }
   ],
   "source": [
    "import statsmodels.api as sm\n",
    "sm.stats.diagnostic.linear_rainbow(res=lin_reg, frac=0.5)"
   ]
  },
  {
   "cell_type": "code",
   "execution_count": 41,
   "metadata": {},
   "outputs": [
    {
     "data": {
      "image/png": "[encoded data removed]",
      "text/plain": [
       "<Figure size 432x288 with 1 Axes>"
      ]
     },
     "metadata": {
      "needs_background": "light"
     },
     "output_type": "display_data"
    }
   ],
   "source": [
    "import scipy.stats as stats\n",
    "import pylab\n",
    "from statsmodels.graphics.gofplots import ProbPlot\n",
    "st_residual = lin_reg.get_influence().resid_studentized_internal\n",
    "stats.probplot(st_residual, dist=\"norm\", plot = pylab)\n",
    "plt.show()"
   ]
  },
  {
   "cell_type": "raw",
   "metadata": {},
   "source": [
    "    EXPECTATION : THE MEAN VALUE OF THE RESIDUALS SHOULD BE ZERO.\n",
    "    LET's CHECK"
   ]
  },
  {
   "cell_type": "code",
   "execution_count": 42,
   "metadata": {},
   "outputs": [
    {
     "data": {
      "text/plain": [
       "1.651746398523839e-11"
      ]
     },
     "execution_count": 42,
     "metadata": {},
     "output_type": "execute_result"
    }
   ],
   "source": [
    "lin_reg.resid.mean()"
   ]
  },
  {
   "cell_type": "code",
   "execution_count": 43,
   "metadata": {},
   "outputs": [],
   "source": [
    "# which is very much close to zero. so linearity is present"
   ]
  },
  {
   "cell_type": "markdown",
   "metadata": {},
   "source": [
    "##### Assumption 5- NO  MULTI COLLINEARITY"
   ]
  },
  {
   "cell_type": "raw",
   "metadata": {},
   "source": [
    "The interpretation of VIF is as follows: the square root of a given variable’s VIF shows how much larger the standard error is,\n",
    "compared with what it would be if that predictor were uncorrelated with the other features in the model.\n",
    "If no features are correlated, then all values for VIF will be 1."
   ]
  },
  {
   "cell_type": "code",
   "execution_count": 59,
   "metadata": {},
   "outputs": [],
   "source": [
    "x=dum\n",
    "y=train[\"Purchase\"]\n",
    "xc=sm.add_constant(x)"
   ]
  },
  {
   "cell_type": "code",
   "execution_count": 60,
   "metadata": {},
   "outputs": [],
   "source": [
    "from statsmodels.stats.outliers_influence import variance_inflation_factor as vif\n",
    "vif1= [vif(xc.values,i) for i in range(xc.shape[1])]"
   ]
  },
  {
   "cell_type": "code",
   "execution_count": 61,
   "metadata": {},
   "outputs": [
    {
     "data": {
      "text/html": [
       "<div>\n",
       "<style scoped>\n",
       "    .dataframe tbody tr th:only-of-type {\n",
       "        vertical-align: middle;\n",
       "    }\n",
       "\n",
       "    .dataframe tbody tr th {\n",
       "        vertical-align: top;\n",
       "    }\n",
       "\n",
       "    .dataframe thead th {\n",
       "        text-align: right;\n",
       "    }\n",
       "</style>\n",
       "<table border=\"1\" class=\"dataframe\">\n",
       "  <thead>\n",
       "    <tr style=\"text-align: right;\">\n",
       "      <th></th>\n",
       "      <th>const</th>\n",
       "      <th>Gender_M</th>\n",
       "      <th>Age_18-25</th>\n",
       "      <th>Age_26-35</th>\n",
       "      <th>Age_36-45</th>\n",
       "      <th>Age_46-50</th>\n",
       "      <th>Age_51-55</th>\n",
       "      <th>Age_55+</th>\n",
       "      <th>Occupation_1</th>\n",
       "      <th>Occupation_2</th>\n",
       "      <th>Occupation_3</th>\n",
       "      <th>Occupation_4</th>\n",
       "      <th>Occupation_5</th>\n",
       "      <th>Occupation_6</th>\n",
       "      <th>Occupation_7</th>\n",
       "      <th>Occupation_8</th>\n",
       "      <th>Occupation_9</th>\n",
       "      <th>Occupation_10</th>\n",
       "      <th>Occupation_11</th>\n",
       "      <th>Occupation_12</th>\n",
       "      <th>Occupation_13</th>\n",
       "      <th>Occupation_14</th>\n",
       "      <th>Occupation_15</th>\n",
       "      <th>Occupation_16</th>\n",
       "      <th>Occupation_17</th>\n",
       "      <th>Occupation_18</th>\n",
       "      <th>Occupation_19</th>\n",
       "      <th>Occupation_20</th>\n",
       "      <th>City_Category_B</th>\n",
       "      <th>City_Category_C</th>\n",
       "      <th>Stay_In_Current_City_Years_1</th>\n",
       "      <th>Stay_In_Current_City_Years_2</th>\n",
       "      <th>Stay_In_Current_City_Years_3</th>\n",
       "      <th>Stay_In_Current_City_Years_4</th>\n",
       "      <th>Marital_Status_1</th>\n",
       "      <th>Product_Category_1_2</th>\n",
       "      <th>Product_Category_1_3</th>\n",
       "      <th>Product_Category_1_4</th>\n",
       "      <th>Product_Category_1_5</th>\n",
       "      <th>Product_Category_1_6</th>\n",
       "      <th>Product_Category_1_7</th>\n",
       "      <th>Product_Category_1_8</th>\n",
       "      <th>Product_Category_1_9</th>\n",
       "      <th>Product_Category_1_10</th>\n",
       "      <th>Product_Category_1_11</th>\n",
       "      <th>Product_Category_1_12</th>\n",
       "      <th>Product_Category_1_13</th>\n",
       "      <th>Product_Category_1_14</th>\n",
       "      <th>Product_Category_1_15</th>\n",
       "      <th>Product_Category_1_16</th>\n",
       "      <th>Product_Category_1_17</th>\n",
       "      <th>Product_Category_1_18</th>\n",
       "      <th>Product_Category_2_2.0</th>\n",
       "      <th>Product_Category_2_3.0</th>\n",
       "      <th>Product_Category_2_4.0</th>\n",
       "      <th>Product_Category_2_5.0</th>\n",
       "      <th>Product_Category_2_6.0</th>\n",
       "      <th>Product_Category_2_7.0</th>\n",
       "      <th>Product_Category_2_8.0</th>\n",
       "      <th>Product_Category_2_9.0</th>\n",
       "      <th>Product_Category_2_10.0</th>\n",
       "      <th>Product_Category_2_11.0</th>\n",
       "      <th>Product_Category_2_12.0</th>\n",
       "      <th>Product_Category_2_13.0</th>\n",
       "      <th>Product_Category_2_14.0</th>\n",
       "      <th>Product_Category_2_15.0</th>\n",
       "      <th>Product_Category_2_16.0</th>\n",
       "      <th>Product_Category_2_17.0</th>\n",
       "      <th>Product_Category_2_18.0</th>\n",
       "    </tr>\n",
       "  </thead>\n",
       "  <tbody>\n",
       "    <tr>\n",
       "      <th>vif</th>\n",
       "      <td>122.658406</td>\n",
       "      <td>1.104082</td>\n",
       "      <td>14.985402</td>\n",
       "      <td>24.071595</td>\n",
       "      <td>16.519652</td>\n",
       "      <td>8.579797</td>\n",
       "      <td>7.502009</td>\n",
       "      <td>4.849531</td>\n",
       "      <td>1.5657</td>\n",
       "      <td>1.324354</td>\n",
       "      <td>1.225724</td>\n",
       "      <td>2.086263</td>\n",
       "      <td>1.156957</td>\n",
       "      <td>1.272332</td>\n",
       "      <td>1.68899</td>\n",
       "      <td>1.026747</td>\n",
       "      <td>1.118443</td>\n",
       "      <td>2.664322</td>\n",
       "      <td>1.151748</td>\n",
       "      <td>1.380106</td>\n",
       "      <td>1.278739</td>\n",
       "      <td>1.330578</td>\n",
       "      <td>1.153582</td>\n",
       "      <td>1.330573</td>\n",
       "      <td>1.491144</td>\n",
       "      <td>1.092266</td>\n",
       "      <td>1.119278</td>\n",
       "      <td>1.408158</td>\n",
       "      <td>1.523848</td>\n",
       "      <td>1.57446</td>\n",
       "      <td>2.36244</td>\n",
       "      <td>1.944077</td>\n",
       "      <td>1.911089</td>\n",
       "      <td>1.826049</td>\n",
       "      <td>1.14355</td>\n",
       "      <td>1.856439</td>\n",
       "      <td>2.942048</td>\n",
       "      <td>1.394327</td>\n",
       "      <td>2.392117</td>\n",
       "      <td>1.441201</td>\n",
       "      <td>1.073301</td>\n",
       "      <td>2.360906</td>\n",
       "      <td>1.012247</td>\n",
       "      <td>1.129882</td>\n",
       "      <td>1.306798</td>\n",
       "      <td>1.080518</td>\n",
       "      <td>1.099279</td>\n",
       "      <td>1.026082</td>\n",
       "      <td>1.104</td>\n",
       "      <td>1.198309</td>\n",
       "      <td>1.012676</td>\n",
       "      <td>1.065138</td>\n",
       "      <td>1.911263</td>\n",
       "      <td>1.221765</td>\n",
       "      <td>3.441348</td>\n",
       "      <td>1.823019</td>\n",
       "      <td>1.184811</td>\n",
       "      <td>1.005859</td>\n",
       "      <td>1.562499</td>\n",
       "      <td>1.073958</td>\n",
       "      <td>1.163478</td>\n",
       "      <td>1.099043</td>\n",
       "      <td>1.040341</td>\n",
       "      <td>1.124737</td>\n",
       "      <td>1.242311</td>\n",
       "      <td>1.345508</td>\n",
       "      <td>1.38112</td>\n",
       "      <td>1.083669</td>\n",
       "      <td>1.018559</td>\n",
       "    </tr>\n",
       "  </tbody>\n",
       "</table>\n",
       "</div>"
      ],
      "text/plain": [
       "          const  Gender_M  Age_18-25  Age_26-35  Age_36-45  Age_46-50  \\\n",
       "vif  122.658406  1.104082  14.985402  24.071595  16.519652   8.579797   \n",
       "\n",
       "     Age_51-55   Age_55+  Occupation_1  Occupation_2  Occupation_3  \\\n",
       "vif   7.502009  4.849531        1.5657      1.324354      1.225724   \n",
       "\n",
       "     Occupation_4  Occupation_5  Occupation_6  Occupation_7  Occupation_8  \\\n",
       "vif      2.086263      1.156957      1.272332       1.68899      1.026747   \n",
       "\n",
       "     Occupation_9  Occupation_10  Occupation_11  Occupation_12  Occupation_13  \\\n",
       "vif      1.118443       2.664322       1.151748       1.380106       1.278739   \n",
       "\n",
       "     Occupation_14  Occupation_15  Occupation_16  Occupation_17  \\\n",
       "vif       1.330578       1.153582       1.330573       1.491144   \n",
       "\n",
       "     Occupation_18  Occupation_19  Occupation_20  City_Category_B  \\\n",
       "vif       1.092266       1.119278       1.408158         1.523848   \n",
       "\n",
       "     City_Category_C  Stay_In_Current_City_Years_1  \\\n",
       "vif          1.57446                       2.36244   \n",
       "\n",
       "     Stay_In_Current_City_Years_2  Stay_In_Current_City_Years_3  \\\n",
       "vif                      1.944077                      1.911089   \n",
       "\n",
       "     Stay_In_Current_City_Years_4  Marital_Status_1  Product_Category_1_2  \\\n",
       "vif                      1.826049           1.14355              1.856439   \n",
       "\n",
       "     Product_Category_1_3  Product_Category_1_4  Product_Category_1_5  \\\n",
       "vif              2.942048              1.394327              2.392117   \n",
       "\n",
       "     Product_Category_1_6  Product_Category_1_7  Product_Category_1_8  \\\n",
       "vif              1.441201              1.073301              2.360906   \n",
       "\n",
       "     Product_Category_1_9  Product_Category_1_10  Product_Category_1_11  \\\n",
       "vif              1.012247               1.129882               1.306798   \n",
       "\n",
       "     Product_Category_1_12  Product_Category_1_13  Product_Category_1_14  \\\n",
       "vif               1.080518               1.099279               1.026082   \n",
       "\n",
       "     Product_Category_1_15  Product_Category_1_16  Product_Category_1_17  \\\n",
       "vif                  1.104               1.198309               1.012676   \n",
       "\n",
       "     Product_Category_1_18  Product_Category_2_2.0  Product_Category_2_3.0  \\\n",
       "vif               1.065138                1.911263                1.221765   \n",
       "\n",
       "     Product_Category_2_4.0  Product_Category_2_5.0  Product_Category_2_6.0  \\\n",
       "vif                3.441348                1.823019                1.184811   \n",
       "\n",
       "     Product_Category_2_7.0  Product_Category_2_8.0  Product_Category_2_9.0  \\\n",
       "vif                1.005859                1.562499                1.073958   \n",
       "\n",
       "     Product_Category_2_10.0  Product_Category_2_11.0  \\\n",
       "vif                 1.163478                 1.099043   \n",
       "\n",
       "     Product_Category_2_12.0  Product_Category_2_13.0  \\\n",
       "vif                 1.040341                 1.124737   \n",
       "\n",
       "     Product_Category_2_14.0  Product_Category_2_15.0  \\\n",
       "vif                 1.242311                 1.345508   \n",
       "\n",
       "     Product_Category_2_16.0  Product_Category_2_17.0  Product_Category_2_18.0  \n",
       "vif                  1.38112                 1.083669                 1.018559  "
      ]
     },
     "execution_count": 61,
     "metadata": {},
     "output_type": "execute_result"
    }
   ],
   "source": [
    "vif1=pd.DataFrame({'vif': vif1[0:]},index=xc.columns)\n",
    "pd.set_option('display.Max_columns',None)\n",
    "vif1.T"
   ]
  },
  {
   "cell_type": "code",
   "execution_count": 68,
   "metadata": {},
   "outputs": [],
   "source": [
    "#so, Multicollinearity exists. "
   ]
  },
  {
   "cell_type": "markdown",
   "metadata": {},
   "source": [
    "# Removing multicollinearity"
   ]
  },
  {
   "cell_type": "code",
   "execution_count": 63,
   "metadata": {},
   "outputs": [
    {
     "data": {
      "text/html": [
       "<div>\n",
       "<style scoped>\n",
       "    .dataframe tbody tr th:only-of-type {\n",
       "        vertical-align: middle;\n",
       "    }\n",
       "\n",
       "    .dataframe tbody tr th {\n",
       "        vertical-align: top;\n",
       "    }\n",
       "\n",
       "    .dataframe thead th {\n",
       "        text-align: right;\n",
       "    }\n",
       "</style>\n",
       "<table border=\"1\" class=\"dataframe\">\n",
       "  <thead>\n",
       "    <tr style=\"text-align: right;\">\n",
       "      <th></th>\n",
       "      <th>const</th>\n",
       "      <th>Gender_M</th>\n",
       "      <th>Age_18-25</th>\n",
       "      <th>Age_36-45</th>\n",
       "      <th>Age_46-50</th>\n",
       "      <th>Age_51-55</th>\n",
       "      <th>Age_55+</th>\n",
       "      <th>Occupation_1</th>\n",
       "      <th>Occupation_2</th>\n",
       "      <th>Occupation_3</th>\n",
       "      <th>Occupation_4</th>\n",
       "      <th>Occupation_5</th>\n",
       "      <th>Occupation_6</th>\n",
       "      <th>Occupation_7</th>\n",
       "      <th>Occupation_8</th>\n",
       "      <th>Occupation_9</th>\n",
       "      <th>Occupation_10</th>\n",
       "      <th>Occupation_11</th>\n",
       "      <th>Occupation_12</th>\n",
       "      <th>Occupation_13</th>\n",
       "      <th>Occupation_14</th>\n",
       "      <th>Occupation_15</th>\n",
       "      <th>Occupation_16</th>\n",
       "      <th>Occupation_17</th>\n",
       "      <th>Occupation_18</th>\n",
       "      <th>Occupation_19</th>\n",
       "      <th>Occupation_20</th>\n",
       "      <th>City_Category_B</th>\n",
       "      <th>City_Category_C</th>\n",
       "      <th>Stay_In_Current_City_Years_1</th>\n",
       "      <th>Stay_In_Current_City_Years_2</th>\n",
       "      <th>Stay_In_Current_City_Years_3</th>\n",
       "      <th>Stay_In_Current_City_Years_4</th>\n",
       "      <th>Marital_Status_1</th>\n",
       "      <th>Product_Category_1_2</th>\n",
       "      <th>Product_Category_1_3</th>\n",
       "      <th>Product_Category_1_4</th>\n",
       "      <th>Product_Category_1_5</th>\n",
       "      <th>Product_Category_1_6</th>\n",
       "      <th>Product_Category_1_7</th>\n",
       "      <th>Product_Category_1_8</th>\n",
       "      <th>Product_Category_1_9</th>\n",
       "      <th>Product_Category_1_10</th>\n",
       "      <th>Product_Category_1_11</th>\n",
       "      <th>Product_Category_1_12</th>\n",
       "      <th>Product_Category_1_13</th>\n",
       "      <th>Product_Category_1_14</th>\n",
       "      <th>Product_Category_1_15</th>\n",
       "      <th>Product_Category_1_16</th>\n",
       "      <th>Product_Category_1_17</th>\n",
       "      <th>Product_Category_1_18</th>\n",
       "      <th>Product_Category_2_2.0</th>\n",
       "      <th>Product_Category_2_3.0</th>\n",
       "      <th>Product_Category_2_4.0</th>\n",
       "      <th>Product_Category_2_5.0</th>\n",
       "      <th>Product_Category_2_6.0</th>\n",
       "      <th>Product_Category_2_7.0</th>\n",
       "      <th>Product_Category_2_8.0</th>\n",
       "      <th>Product_Category_2_9.0</th>\n",
       "      <th>Product_Category_2_10.0</th>\n",
       "      <th>Product_Category_2_11.0</th>\n",
       "      <th>Product_Category_2_12.0</th>\n",
       "      <th>Product_Category_2_13.0</th>\n",
       "      <th>Product_Category_2_14.0</th>\n",
       "      <th>Product_Category_2_15.0</th>\n",
       "      <th>Product_Category_2_16.0</th>\n",
       "      <th>Product_Category_2_17.0</th>\n",
       "      <th>Product_Category_2_18.0</th>\n",
       "    </tr>\n",
       "  </thead>\n",
       "  <tbody>\n",
       "    <tr>\n",
       "      <th>vif</th>\n",
       "      <td>33.283712</td>\n",
       "      <td>1.103182</td>\n",
       "      <td>1.477158</td>\n",
       "      <td>1.238909</td>\n",
       "      <td>1.193466</td>\n",
       "      <td>1.189869</td>\n",
       "      <td>1.27152</td>\n",
       "      <td>1.562111</td>\n",
       "      <td>1.322033</td>\n",
       "      <td>1.222721</td>\n",
       "      <td>2.084299</td>\n",
       "      <td>1.154874</td>\n",
       "      <td>1.269165</td>\n",
       "      <td>1.68193</td>\n",
       "      <td>1.026718</td>\n",
       "      <td>1.117495</td>\n",
       "      <td>1.192727</td>\n",
       "      <td>1.149932</td>\n",
       "      <td>1.377924</td>\n",
       "      <td>1.278266</td>\n",
       "      <td>1.32746</td>\n",
       "      <td>1.151435</td>\n",
       "      <td>1.327674</td>\n",
       "      <td>1.485957</td>\n",
       "      <td>1.091534</td>\n",
       "      <td>1.112862</td>\n",
       "      <td>1.404584</td>\n",
       "      <td>1.522764</td>\n",
       "      <td>1.572158</td>\n",
       "      <td>2.361479</td>\n",
       "      <td>1.94403</td>\n",
       "      <td>1.910792</td>\n",
       "      <td>1.825092</td>\n",
       "      <td>1.134166</td>\n",
       "      <td>1.856435</td>\n",
       "      <td>2.941975</td>\n",
       "      <td>1.394072</td>\n",
       "      <td>2.392055</td>\n",
       "      <td>1.441191</td>\n",
       "      <td>1.073288</td>\n",
       "      <td>2.360897</td>\n",
       "      <td>1.012233</td>\n",
       "      <td>1.129867</td>\n",
       "      <td>1.306796</td>\n",
       "      <td>1.080502</td>\n",
       "      <td>1.099279</td>\n",
       "      <td>1.026081</td>\n",
       "      <td>1.104</td>\n",
       "      <td>1.198305</td>\n",
       "      <td>1.012675</td>\n",
       "      <td>1.06513</td>\n",
       "      <td>1.911247</td>\n",
       "      <td>1.221765</td>\n",
       "      <td>3.441255</td>\n",
       "      <td>1.823008</td>\n",
       "      <td>1.184808</td>\n",
       "      <td>1.005855</td>\n",
       "      <td>1.562442</td>\n",
       "      <td>1.073941</td>\n",
       "      <td>1.163477</td>\n",
       "      <td>1.09904</td>\n",
       "      <td>1.040341</td>\n",
       "      <td>1.124737</td>\n",
       "      <td>1.242294</td>\n",
       "      <td>1.345469</td>\n",
       "      <td>1.381118</td>\n",
       "      <td>1.083669</td>\n",
       "      <td>1.018559</td>\n",
       "    </tr>\n",
       "  </tbody>\n",
       "</table>\n",
       "</div>"
      ],
      "text/plain": [
       "         const  Gender_M  Age_18-25  Age_36-45  Age_46-50  Age_51-55  Age_55+  \\\n",
       "vif  33.283712  1.103182   1.477158   1.238909   1.193466   1.189869  1.27152   \n",
       "\n",
       "     Occupation_1  Occupation_2  Occupation_3  Occupation_4  Occupation_5  \\\n",
       "vif      1.562111      1.322033      1.222721      2.084299      1.154874   \n",
       "\n",
       "     Occupation_6  Occupation_7  Occupation_8  Occupation_9  Occupation_10  \\\n",
       "vif      1.269165       1.68193      1.026718      1.117495       1.192727   \n",
       "\n",
       "     Occupation_11  Occupation_12  Occupation_13  Occupation_14  \\\n",
       "vif       1.149932       1.377924       1.278266        1.32746   \n",
       "\n",
       "     Occupation_15  Occupation_16  Occupation_17  Occupation_18  \\\n",
       "vif       1.151435       1.327674       1.485957       1.091534   \n",
       "\n",
       "     Occupation_19  Occupation_20  City_Category_B  City_Category_C  \\\n",
       "vif       1.112862       1.404584         1.522764         1.572158   \n",
       "\n",
       "     Stay_In_Current_City_Years_1  Stay_In_Current_City_Years_2  \\\n",
       "vif                      2.361479                       1.94403   \n",
       "\n",
       "     Stay_In_Current_City_Years_3  Stay_In_Current_City_Years_4  \\\n",
       "vif                      1.910792                      1.825092   \n",
       "\n",
       "     Marital_Status_1  Product_Category_1_2  Product_Category_1_3  \\\n",
       "vif          1.134166              1.856435              2.941975   \n",
       "\n",
       "     Product_Category_1_4  Product_Category_1_5  Product_Category_1_6  \\\n",
       "vif              1.394072              2.392055              1.441191   \n",
       "\n",
       "     Product_Category_1_7  Product_Category_1_8  Product_Category_1_9  \\\n",
       "vif              1.073288              2.360897              1.012233   \n",
       "\n",
       "     Product_Category_1_10  Product_Category_1_11  Product_Category_1_12  \\\n",
       "vif               1.129867               1.306796               1.080502   \n",
       "\n",
       "     Product_Category_1_13  Product_Category_1_14  Product_Category_1_15  \\\n",
       "vif               1.099279               1.026081                  1.104   \n",
       "\n",
       "     Product_Category_1_16  Product_Category_1_17  Product_Category_1_18  \\\n",
       "vif               1.198305               1.012675                1.06513   \n",
       "\n",
       "     Product_Category_2_2.0  Product_Category_2_3.0  Product_Category_2_4.0  \\\n",
       "vif                1.911247                1.221765                3.441255   \n",
       "\n",
       "     Product_Category_2_5.0  Product_Category_2_6.0  Product_Category_2_7.0  \\\n",
       "vif                1.823008                1.184808                1.005855   \n",
       "\n",
       "     Product_Category_2_8.0  Product_Category_2_9.0  Product_Category_2_10.0  \\\n",
       "vif                1.562442                1.073941                 1.163477   \n",
       "\n",
       "     Product_Category_2_11.0  Product_Category_2_12.0  \\\n",
       "vif                  1.09904                 1.040341   \n",
       "\n",
       "     Product_Category_2_13.0  Product_Category_2_14.0  \\\n",
       "vif                 1.124737                 1.242294   \n",
       "\n",
       "     Product_Category_2_15.0  Product_Category_2_16.0  \\\n",
       "vif                 1.345469                 1.381118   \n",
       "\n",
       "     Product_Category_2_17.0  Product_Category_2_18.0  \n",
       "vif                 1.083669                 1.018559  "
      ]
     },
     "execution_count": 63,
     "metadata": {},
     "output_type": "execute_result"
    }
   ],
   "source": [
    "x=dum.drop(['Age_26-35'],axis=1)\n",
    "y=train[\"Purchase\"]\n",
    "xc=sm.add_constant(x)\n",
    "from statsmodels.stats.outliers_influence import variance_inflation_factor as vif\n",
    "vif2= [vif(xc.values,i) for i in range(xc.shape[1])]\n",
    "vif2=pd.DataFrame({'vif': vif2[0:]},index=xc.columns)\n",
    "vif2.T"
   ]
  },
  {
   "cell_type": "code",
   "execution_count": null,
   "metadata": {},
   "outputs": [],
   "source": [
    "# here , multicollinearity has been reduced below 5"
   ]
  },
  {
   "cell_type": "code",
   "execution_count": 65,
   "metadata": {},
   "outputs": [
    {
     "data": {
      "text/plain": [
       "Index(['Gender_M', 'Age_18-25', 'Age_36-45', 'Age_46-50', 'Age_51-55',\n",
       "       'Age_55+', 'Occupation_1', 'Occupation_2', 'Occupation_3',\n",
       "       'Occupation_4', 'Occupation_5', 'Occupation_6', 'Occupation_7',\n",
       "       'Occupation_8', 'Occupation_9', 'Occupation_10', 'Occupation_11',\n",
       "       'Occupation_12', 'Occupation_13', 'Occupation_14', 'Occupation_15',\n",
       "       'Occupation_16', 'Occupation_17', 'Occupation_18', 'Occupation_19',\n",
       "       'Occupation_20', 'City_Category_B', 'City_Category_C',\n",
       "       'Stay_In_Current_City_Years_1', 'Stay_In_Current_City_Years_2',\n",
       "       'Stay_In_Current_City_Years_3', 'Stay_In_Current_City_Years_4',\n",
       "       'Marital_Status_1', 'Product_Category_1_2', 'Product_Category_1_3',\n",
       "       'Product_Category_1_4', 'Product_Category_1_5', 'Product_Category_1_6',\n",
       "       'Product_Category_1_7', 'Product_Category_1_8', 'Product_Category_1_9',\n",
       "       'Product_Category_1_10', 'Product_Category_1_11',\n",
       "       'Product_Category_1_12', 'Product_Category_1_13',\n",
       "       'Product_Category_1_14', 'Product_Category_1_15',\n",
       "       'Product_Category_1_16', 'Product_Category_1_17',\n",
       "       'Product_Category_1_18', 'Product_Category_2_2.0',\n",
       "       'Product_Category_2_3.0', 'Product_Category_2_4.0',\n",
       "       'Product_Category_2_5.0', 'Product_Category_2_6.0',\n",
       "       'Product_Category_2_7.0', 'Product_Category_2_8.0',\n",
       "       'Product_Category_2_9.0', 'Product_Category_2_10.0',\n",
       "       'Product_Category_2_11.0', 'Product_Category_2_12.0',\n",
       "       'Product_Category_2_13.0', 'Product_Category_2_14.0',\n",
       "       'Product_Category_2_15.0', 'Product_Category_2_16.0',\n",
       "       'Product_Category_2_17.0', 'Product_Category_2_18.0'],\n",
       "      dtype='object')"
      ]
     },
     "execution_count": 65,
     "metadata": {},
     "output_type": "execute_result"
    }
   ],
   "source": [
    "x.columns"
   ]
  },
  {
   "cell_type": "code",
   "execution_count": 72,
   "metadata": {},
   "outputs": [
    {
     "name": "stdout",
     "output_type": "stream",
     "text": [
      "Coefficients: [-1.81074951e+00  1.09163420e+02 -2.53555876e+01  2.10196165e+01\n",
      "  2.55215860e+02  5.46424391e+01  7.62090970e+01  2.56154080e+02\n",
      "  1.45600386e+02 -1.82286578e+02  1.18141927e+02 -5.04964159e+01\n",
      "  1.14553541e+02  2.45359162e+02  1.65654786e+02  1.76436814e+02\n",
      "  3.57069823e+02  1.63153497e+02  1.90895398e+02 -2.29025755e+00\n",
      " -3.19683885e+02 -9.25951311e+01  1.50793730e+02  4.82613510e+02\n",
      "  7.09462587e+00  3.80909233e+01  8.50754627e+00  2.62847635e+01\n",
      " -5.84526462e+00 -1.27766095e+03 -1.93904913e+03 -1.05799308e+04\n",
      " -6.46147732e+03  2.50441026e+03  4.07543701e+03 -5.03552010e+03\n",
      "  2.56371878e+03  6.91315716e+03 -7.89318933e+03 -1.11679423e+04\n",
      " -1.21630695e+04  6.63452171e+02  2.06462038e+03  2.48381693e+03\n",
      " -2.14864479e+03 -9.32633803e+03  1.31318911e+03  1.59067578e+02\n",
      " -3.88426979e+02  5.63568792e+02  1.44069515e+03  1.07975766e+03\n",
      "  1.11581675e+03  3.10031915e+02  1.83709267e+03  3.14856699e+02\n",
      "  6.06605370e+01  2.74235764e+02  3.52773020e+02  6.75931244e+02\n",
      "  7.26541559e+02  9.85102843e+02  1.16464842e+03]\n",
      "Intercept: 11968.85708748762\n",
      "R^2 score: 0.5937632391061998\n"
     ]
    }
   ],
   "source": [
    "x=dum.drop(['Age_26-35'],axis=1)\n",
    "y = train['Purchase']\n",
    "from sklearn.linear_model import LinearRegression\n",
    "\n",
    "lin_reg = LinearRegression()\n",
    "lin_reg.fit(X, y)\n",
    "\n",
    "print(f'Coefficients: {lin_reg.coef_}')\n",
    "print(f'Intercept: {lin_reg.intercept_}')\n",
    "print(f'R^2 score: {lin_reg.score(X, y)}')\n"
   ]
  },
  {
   "cell_type": "code",
   "execution_count": null,
   "metadata": {},
   "outputs": [],
   "source": []
  }
 ],
 "metadata": {
  "kernelspec": {
   "display_name": "Python 3",
   "language": "python",
   "name": "python3"
  },
  "language_info": {
   "codemirror_mode": {
    "name": "ipython",
    "version": 3
   },
   "file_extension": ".py",
   "mimetype": "text/x-python",
   "name": "python",
   "nbconvert_exporter": "python",
   "pygments_lexer": "ipython3",
   "version": "3.7.4"
  }
 },
 "nbformat": 4,
 "nbformat_minor": 4
}
